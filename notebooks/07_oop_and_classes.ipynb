{
 "cells": [
  {
   "cell_type": "markdown",
   "id": "16f69c47-f2cf-44e9-966a-10478e8cc977",
   "metadata": {
    "editable": true,
    "jp-MarkdownHeadingCollapsed": true,
    "slideshow": {
     "slide_type": "slide"
    },
    "tags": []
   },
   "source": [
    "# Introduction to OOP and Classes\n",
    "\n",
    "## Session 7"
   ]
  },
  {
   "cell_type": "markdown",
   "id": "8ee507ed-cbce-43f7-bced-c2d78bc16f6e",
   "metadata": {
    "editable": true,
    "slideshow": {
     "slide_type": "slide"
    },
    "tags": []
   },
   "source": [
    "# Agenda\n",
    "\n",
    "- Recap\n",
    "- What is OOP?\n",
    "- Why OOP?\n",
    "- Classes and Inheritance\n",
    "- Hands-on Activity"
   ]
  },
  {
   "cell_type": "markdown",
   "id": "3f79d902",
   "metadata": {
    "slideshow": {
     "slide_type": "slide"
    }
   },
   "source": [
    "# Recap\n",
    "\n",
    "- What are Functions?\n",
    "- Why Do We Need Functions?\n",
    "- Parameters and Arguments\n",
    "- Return values"
   ]
  },
  {
   "cell_type": "markdown",
   "metadata": {
    "slideshow": {
     "slide_type": "slide"
    }
   },
   "source": [
    "# Homework\n",
    "\n",
    "Support move left or right using the left or right arrow"
   ]
  },
  {
   "cell_type": "code",
   "execution_count": null,
   "metadata": {
    "slideshow": {
     "slide_type": "slide"
    }
   },
   "outputs": [],
   "source": [
    "elif key_pressed[pygame.K_LEFT]:\n",
    "  plane_rect.left -= speed\n",
    "  if plane_rect.left < 0:\n",
    "    plane_rect.left = 0\n",
    "elif key_pressed[pygame.K_RIGHT]:\n",
    "  plane_rect.left += speed\n",
    "  if plane_rect.left > SCREEN_WIDTH - plane_rect.width:\n",
    "    plane_rect.left = SCREEN_WIDTH - plane_rect.width"
   ]
  },
  {
   "cell_type": "markdown",
   "id": "6995684b-150e-430f-a834-628c09f38ff9",
   "metadata": {
    "editable": true,
    "slideshow": {
     "slide_type": "slide"
    },
    "tags": []
   },
   "source": [
    "# What is OOP?\n",
    "\n",
    "- **Definition**: A programming paradigm based on the concept of \"objects\", which can contain data and code: data in the form of fields (often known as attributes), and code, in the form of procedures (often known as methods).\n",
    "\n",
    "- **Key Concepts**:\n",
    "  - **Classes**: Blueprints for creating objects.\n",
    "  - **Objects**: Instances of classes.\n",
    "  - **Inheritance**: A way to form new classes using classes that have already been defined.\n",
    "  - **Encapsulation**: Keeping the internal representation of an object hidden from the outside.\n",
    "  - **Polymorphism**: The ability to present the same interface for differing underlying forms (data types)."
   ]
  },
  {
   "cell_type": "markdown",
   "metadata": {
    "slideshow": {
     "slide_type": "slide"
    }
   },
   "source": [
    "![OOP](./images/oop.png) "
   ]
  },
  {
   "cell_type": "code",
   "execution_count": null,
   "metadata": {
    "slideshow": {
     "slide_type": "slide"
    }
   },
   "outputs": [],
   "source": [
    "class Dog:\n",
    "  # Constructor method to initialize the dog's attributes\n",
    "  def __init__(self, name, height, weight):\n",
    "    self.name = name\n",
    "    self.height = height\n",
    "    self.weight = weight\n",
    "    self._food = None\n",
    "\n",
    "  @property\n",
    "  def food(self):\n",
    "    return self._food\n",
    "  \n",
    "  @food.setter\n",
    "  def food(self, food):\n",
    "    self._food = food\n",
    "\n",
    "  # Method to run\n",
    "  def run(self):\n",
    "    return print(f\"{self.name} is running.\")\n",
    "\n",
    "  # Method to run\n",
    "  def play(self):\n",
    "    return print(f\"{self.name} is playing.\")\n",
    "\n",
    "  # Method to run\n",
    "  def eat(self):\n",
    "    return print(f\"{self.name} is eating {self.food}.\")\n",
    "\n",
    "my_dog = Dog('puppy', 60, 30)\n",
    "my_dog.food = 'meat'\n",
    "\n",
    "my_dog.eat()"
   ]
  },
  {
   "cell_type": "markdown",
   "metadata": {
    "slideshow": {
     "slide_type": "slide"
    }
   },
   "source": [
    "# Why OOP?\n",
    "\n",
    "- Modularity for easier troubleshooting.\n",
    "- Reuse of code through inheritance.\n",
    "- Flexibility through polymorphism.\n",
    "- Effective problem-solving."
   ]
  },
  {
   "cell_type": "markdown",
   "id": "a4b0d193-45cd-47b6-9740-176d69210378",
   "metadata": {
    "editable": true,
    "slideshow": {
     "slide_type": "slide"
    },
    "tags": []
   },
   "source": [
    "# Basic OOP Concepts\n",
    "\n",
    "- Classes and Objects:\n",
    "  - Syntax of a class.\n",
    "  - Creating an object.\n",
    "- Example:\n",
    "  - Simple class definition.\n",
    "  - Creating an instance of the class."
   ]
  },
  {
   "cell_type": "markdown",
   "id": "fcf0a087-5535-4c67-9a74-fabb8b3a5f31",
   "metadata": {
    "editable": true,
    "slideshow": {
     "slide_type": "slide"
    },
    "tags": []
   },
   "source": [
    "# Inheritance\n",
    "\n",
    "![Inheritance](./images/inheritance.png) "
   ]
  },
  {
   "cell_type": "code",
   "execution_count": null,
   "metadata": {
    "slideshow": {
     "slide_type": "slide"
    }
   },
   "outputs": [],
   "source": [
    "class Car:\n",
    "  def __init__(self, make, model, year):\n",
    "    self.make = make\n",
    "    self.model = model\n",
    "    self.year = year\n",
    "\n",
    "  def describe_car(self):\n",
    "    return f\"{self.year} {self.make} {self.model}\"\n",
    "\n",
    "class ElectricCar(Car):\n",
    "  def __init__(self, make, model, year, battery_size=75):\n",
    "    # Initialize attributes from the parent class\n",
    "    super().__init__(make, model, year)\n",
    "    # Add new attribute specific to ElectricCar\n",
    "    self.battery_size = battery_size\n",
    "\n",
    "  def describe_battery(self):\n",
    "    return f\"This car has a {self.battery_size}-kWh battery.\"\n",
    "\n",
    "  # Overriding the describe_car method from Car\n",
    "  def describe_car(self):\n",
    "    description = super().describe_car()\n",
    "    return f\"{description} (Electric)\"\n"
   ]
  },
  {
   "cell_type": "markdown",
   "metadata": {
    "slideshow": {
     "slide_type": "slide"
    }
   },
   "source": [
    "# Hands-on Activity\n",
    "\n",
    "Continue shooter game:\n",
    "\n",
    "- Change to classes\n",
    "- Sounds\n",
    "- Bullets if possible"
   ]
  },
  {
   "cell_type": "markdown",
   "id": "1b2d3b2b-c0dd-4bd7-ba97-0148dde09f69",
   "metadata": {
    "editable": true,
    "slideshow": {
     "slide_type": "slide"
    },
    "tags": []
   },
   "source": [
    "# Recap and Next Steps\n",
    "- **Recap**\n",
    "  - What is OOP?\n",
    "  - Why OOP?\n",
    "  - Classes and Inheritance\n",
    "- **Next Session Preview**:\n",
    "  - Next time, we'll dive into Modules"
   ]
  },
  {
   "cell_type": "markdown",
   "id": "d20484e5-d7c8-4e8e-8429-245976ddbc2e",
   "metadata": {
    "editable": true,
    "slideshow": {
     "slide_type": "slide"
    },
    "tags": []
   },
   "source": [
    "# Homework\n",
    "\n"
   ]
  }
 ],
 "metadata": {
  "celltoolbar": "Slideshow",
  "kernelspec": {
   "display_name": "Python 3 (ipykernel)",
   "language": "python",
   "name": "python3"
  },
  "language_info": {
   "codemirror_mode": {
    "name": "ipython",
    "version": 3
   },
   "file_extension": ".py",
   "mimetype": "text/x-python",
   "name": "python",
   "nbconvert_exporter": "python",
   "pygments_lexer": "ipython3",
   "version": "3.11.5"
  }
 },
 "nbformat": 4,
 "nbformat_minor": 5
}
