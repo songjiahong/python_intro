{
 "cells": [
  {
   "cell_type": "markdown",
   "id": "16f69c47-f2cf-44e9-966a-10478e8cc977",
   "metadata": {
    "editable": true,
    "jp-MarkdownHeadingCollapsed": true,
    "slideshow": {
     "slide_type": "slide"
    },
    "tags": []
   },
   "source": [
    "# Exploring Strings and User Input\n",
    "\n",
    "## Session 3"
   ]
  },
  {
   "cell_type": "markdown",
   "id": "8ee507ed-cbce-43f7-bced-c2d78bc16f6e",
   "metadata": {
    "editable": true,
    "slideshow": {
     "slide_type": "slide"
    },
    "tags": []
   },
   "source": [
    "# Agenda\n",
    "\n",
    "- Recap\n",
    "- Dive into Strings\n",
    "- Manipulating Strings\n",
    "- Understanding User Input\n",
    "- Hands-on Activity"
   ]
  },
  {
   "cell_type": "markdown",
   "id": "3f79d902",
   "metadata": {},
   "source": [
    "# Recap\n",
    "\n"
   ]
  },
  {
   "cell_type": "markdown",
   "id": "6995684b-150e-430f-a834-628c09f38ff9",
   "metadata": {
    "editable": true,
    "slideshow": {
     "slide_type": "slide"
    },
    "tags": []
   },
   "source": [
    "# Dive into Strings\n",
    "\n",
    "- **Definition**: Strings are sequences of characters.\n",
    "- **Key Points**:\n",
    "  - Enclosed in single or double quotes.\n",
    "  - Can include letters, numbers, and symbols\n"
   ]
  },
  {
   "cell_type": "markdown",
   "id": "a6315bf9-021f-4f36-a079-df9f576e13c3",
   "metadata": {
    "editable": true,
    "slideshow": {
     "slide_type": "slide"
    },
    "tags": []
   },
   "source": [
    "# Indexing and Slicing Strings\n",
    "\n",
    "- **Explanation**: Discuss how strings are indexed and how to slice them\n",
    "- **Example Code**:\n",
    "```\n",
    "text = \"Python\"\n",
    "first_letter = text[0]\n",
    "slice_text = text[1:4]\n",
    "```\n",
    "\n",
    "![string_index](./images/string_index.png) "
   ]
  },
  {
   "cell_type": "markdown",
   "id": "a4b0d193-45cd-47b6-9740-176d69210378",
   "metadata": {
    "editable": true,
    "slideshow": {
     "slide_type": "slide"
    },
    "tags": []
   },
   "source": [
    "# String Methods\n",
    "\n",
    "- **Definition**: Introduce some common string methods.\n",
    "- **Example Code**:\n",
    "```\n",
    "text.upper()\n",
    "text.lower()\n",
    "text.replace(\"P\", \"J\")\n",
    "```\n",
    "- **Key Points**: Explain the output of each method."
   ]
  },
  {
   "cell_type": "markdown",
   "id": "fcf0a087-5535-4c67-9a74-fabb8b3a5f31",
   "metadata": {
    "editable": true,
    "slideshow": {
     "slide_type": "slide"
    },
    "tags": []
   },
   "source": [
    "# Concatenation and Formatting\n",
    "\n",
    "- **Explanation**: Discuss joining strings and using formatted strings.\n",
    "- **Example Code**:\n",
    "```\n",
    "greeting = \"Hello, \" + \"World!\"\n",
    "name = \"Alice\"\n",
    "welcome = f\"Welcome, {name}!\"\n",
    "```\n"
   ]
  },
  {
   "cell_type": "markdown",
   "id": "c35833d1-6406-482e-90e9-6a86eaa6f352",
   "metadata": {
    "editable": true,
    "slideshow": {
     "slide_type": "slide"
    },
    "tags": []
   },
   "source": [
    "# Understanding User Input\n",
    "\n",
    "- **Definition**: Getting input from the user using the `input()` function.\n",
    "- **Example Code**:\n",
    "```\n",
    "name = input(\"What is your name? \")\n",
    "```\n",
    "- **Key Points**: The input is always a string."
   ]
  },
  {
   "cell_type": "markdown",
   "id": "f4cd685f-9258-421a-8ba6-4c7486445011",
   "metadata": {
    "editable": true,
    "slideshow": {
     "slide_type": "slide"
    },
    "tags": []
   },
   "source": [
    "# Converting User Input\n",
    "\n",
    "- **Definition**: Discuss converting user input to other data types.\n",
    "- **Example Code**:\n",
    "```\n",
    "age = int(input(\"How old are you? \"))\n",
    "```\n",
    "- **Key Points**: Mention error handling (briefly, as detailed error handling might be in a later session)."
   ]
  },
  {
   "cell_type": "markdown",
   "id": "483d489d-c3ac-4853-9fa1-b89c110c8ab9",
   "metadata": {
    "editable": true,
    "slideshow": {
     "slide_type": "slide"
    },
    "tags": []
   },
   "source": [
    "# Hands-on Activity\n",
    "- **Activity Description**: Create a program that asks for the user's name and favorite color, then prints a personalized greeting and a sentence about their favorite color.\n",
    "\n",
    "- **Example Code**:\n",
    "```\n",
    "name = input(\"What is your name? \")\n",
    "color = input(\"What is your favorite color? \")\n",
    "print(f\"Hello, {name}! {color} is a wonderful color!\")\n",
    "```\n"
   ]
  },
  {
   "cell_type": "markdown",
   "id": "1b2d3b2b-c0dd-4bd7-ba97-0148dde09f69",
   "metadata": {
    "editable": true,
    "slideshow": {
     "slide_type": "slide"
    },
    "tags": []
   },
   "source": [
    "# Recap and Next Steps\n",
    "- **Recap**\n",
    "  - Dive into Strings\n",
    "  - Manipulating Strings\n",
    "  - Understanding User Input\n",
    "  - Hands-on Activity\n",
    "- **Next Session Preview**:\n",
    "  - Next time, we'll dive into Conditional Statements"
   ]
  },
  {
   "cell_type": "markdown",
   "id": "d20484e5-d7c8-4e8e-8429-245976ddbc2e",
   "metadata": {
    "editable": true,
    "slideshow": {
     "slide_type": "slide"
    },
    "tags": []
   },
   "source": [
    "# Homework\n",
    "\n"
   ]
  }
 ],
 "metadata": {
  "celltoolbar": "Slideshow",
  "kernelspec": {
   "display_name": "Python 3 (ipykernel)",
   "language": "python",
   "name": "python3"
  },
  "language_info": {
   "codemirror_mode": {
    "name": "ipython",
    "version": 3
   },
   "file_extension": ".py",
   "mimetype": "text/x-python",
   "name": "python",
   "nbconvert_exporter": "python",
   "pygments_lexer": "ipython3",
   "version": "3.11.5"
  }
 },
 "nbformat": 4,
 "nbformat_minor": 5
}
