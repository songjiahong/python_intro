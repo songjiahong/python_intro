{
 "cells": [
  {
   "cell_type": "markdown",
   "id": "16f69c47-f2cf-44e9-966a-10478e8cc977",
   "metadata": {
    "editable": true,
    "jp-MarkdownHeadingCollapsed": true,
    "slideshow": {
     "slide_type": "slide"
    },
    "tags": []
   },
   "source": [
    "# Exploring Strings and User Input\n",
    "\n",
    "## Session 3"
   ]
  },
  {
   "cell_type": "markdown",
   "id": "8ee507ed-cbce-43f7-bced-c2d78bc16f6e",
   "metadata": {
    "editable": true,
    "slideshow": {
     "slide_type": "slide"
    },
    "tags": []
   },
   "source": [
    "# Agenda\n",
    "\n",
    "- Recap\n",
    "- Dive into Strings\n",
    "- Manipulating Strings\n",
    "- Understanding User Input\n",
    "- Hands-on Activity"
   ]
  },
  {
   "cell_type": "markdown",
   "id": "3f79d902",
   "metadata": {
    "slideshow": {
     "slide_type": "slide"
    }
   },
   "source": [
    "# Recap\n",
    "\n",
    "- Introduction to Variables\n",
    "- Understanding Data Types\n",
    "- Operations on Variables\n",
    "- Hands-on Activity"
   ]
  },
  {
   "cell_type": "markdown",
   "id": "c4169f3a",
   "metadata": {
    "slideshow": {
     "slide_type": "slide"
    }
   },
   "source": [
    "# Homework\n",
    "\n",
    "For the message encryption program totday, try to create a program to decrypt the encrypted message."
   ]
  },
  {
   "cell_type": "code",
   "execution_count": null,
   "id": "7529cdfa",
   "metadata": {
    "slideshow": {
     "slide_type": "slide"
    }
   },
   "outputs": [],
   "source": [
    "message = input(\"What is your encrypted message? \")\n",
    "decrypt_msg = ''\n",
    "for char in message:\n",
    "  decrypt_char = chr(ord(char) - 1)\n",
    "  decrypt_msg += decrypt_char\n",
    "print(decrypt_msg)"
   ]
  },
  {
   "cell_type": "markdown",
   "id": "6995684b-150e-430f-a834-628c09f38ff9",
   "metadata": {
    "editable": true,
    "slideshow": {
     "slide_type": "slide"
    },
    "tags": []
   },
   "source": [
    "# Dive into Strings\n",
    "\n",
    "- **Definition**: Strings are sequences of characters.\n",
    "- **Key Points**:\n",
    "  - Enclosed in single or double quotes.\n",
    "  - Can include letters, numbers, and symbols\n"
   ]
  },
  {
   "cell_type": "markdown",
   "id": "9c91eddd",
   "metadata": {
    "slideshow": {
     "slide_type": "slide"
    }
   },
   "source": [
    "# Multiple lines of strings\n",
    "\n",
    "To define a string with multiple lines, we can use following type of code to define it:\n",
    "```\n",
    "message = '''\n",
    "Here is one line.\n",
    "And another line.\n",
    "And one more.\n",
    "'''\n",
    "```\n",
    "\n",
    "**NOTE**: both single or double quotes works"
   ]
  },
  {
   "cell_type": "markdown",
   "id": "a6315bf9-021f-4f36-a079-df9f576e13c3",
   "metadata": {
    "editable": true,
    "slideshow": {
     "slide_type": "slide"
    },
    "tags": []
   },
   "source": [
    "# Indexing and Slicing Strings\n",
    "\n",
    "- **Explanation**: Discuss how strings are indexed and how to slice them\n",
    "- **Example Code**:\n",
    "```\n",
    "text = \"Python\"\n",
    "first_letter = text[0]\n",
    "slice_text = text[1:4]\n",
    "```\n",
    "\n",
    "![string_index](./images/string_index.png) "
   ]
  },
  {
   "cell_type": "markdown",
   "id": "a4b0d193-45cd-47b6-9740-176d69210378",
   "metadata": {
    "editable": true,
    "slideshow": {
     "slide_type": "slide"
    },
    "tags": []
   },
   "source": [
    "# String Methods\n",
    "\n",
    "- **Definition**: Introduce some common string methods.\n",
    "- **Example Code**:\n",
    "```\n",
    "text.upper()\n",
    "text.lower()\n",
    "text.replace(\"P\", \"J\")\n",
    "```"
   ]
  },
  {
   "cell_type": "markdown",
   "id": "fcf0a087-5535-4c67-9a74-fabb8b3a5f31",
   "metadata": {
    "editable": true,
    "slideshow": {
     "slide_type": "slide"
    },
    "tags": []
   },
   "source": [
    "# Concatenation and Formatting\n",
    "\n",
    "- **Explanation**: Discuss joining strings and using formatted strings.\n",
    "- **Example Code**:\n",
    "```\n",
    "greeting = \"Hello, \" + \"World!\"\n",
    "name = \"Alice\"\n",
    "welcome = f\"Welcome, {name}!\"\n",
    "```\n"
   ]
  },
  {
   "cell_type": "markdown",
   "id": "c35833d1-6406-482e-90e9-6a86eaa6f352",
   "metadata": {
    "editable": true,
    "slideshow": {
     "slide_type": "slide"
    },
    "tags": []
   },
   "source": [
    "# Understanding User Input\n",
    "\n",
    "- **Definition**: Getting input from the user using the `input()` function.\n",
    "- **Example Code**:\n",
    "```\n",
    "name = input(\"What is your name? \")\n",
    "```\n",
    "- **Key Points**: The input is always a string."
   ]
  },
  {
   "cell_type": "markdown",
   "id": "f4cd685f-9258-421a-8ba6-4c7486445011",
   "metadata": {
    "editable": true,
    "slideshow": {
     "slide_type": "slide"
    },
    "tags": []
   },
   "source": [
    "# Converting User Input\n",
    "\n",
    "- **Definition**: Discuss converting user input to other data types.\n",
    "- **Example Code**:\n",
    "```\n",
    "age = int(input(\"How old are you?\"))\n",
    "```\n",
    "- **Key Points**: will throw error if input is not a number\n",
    "  - Can use `.isdigit()` to check whether the input is integer"
   ]
  },
  {
   "cell_type": "markdown",
   "id": "2a2e01d7",
   "metadata": {
    "slideshow": {
     "slide_type": "subslide"
    }
   },
   "source": [
    "# Check different inputs\n",
    "\n",
    "Check what will happen for different inputs:\n",
    "\n",
    "- 12\n",
    "- _12 (_ means space)\n",
    "- 12_\n",
    "- 12a\n",
    "- a12\n",
    "- 012"
   ]
  },
  {
   "cell_type": "markdown",
   "id": "cc631e28",
   "metadata": {
    "slideshow": {
     "slide_type": "subslide"
    }
   },
   "source": [
    "# Small Activity\n",
    "\n",
    "Read age from input, print the age after 3 years. Warn if the input is not integer."
   ]
  },
  {
   "cell_type": "code",
   "execution_count": null,
   "id": "274b94f5",
   "metadata": {
    "slideshow": {
     "slide_type": "subslide"
    }
   },
   "outputs": [],
   "source": [
    "s = input(\"How old are you?\")\n",
    "if s.isdigit():\n",
    "  age = int(s) + 3\n",
    "  print(f\"Your age is {age} after 3 years\")\n",
    "else:\n",
    "  print(f\"{s} is not an integer. Please input an integer number!\")"
   ]
  },
  {
   "cell_type": "markdown",
   "id": "483d489d-c3ac-4853-9fa1-b89c110c8ab9",
   "metadata": {
    "editable": true,
    "slideshow": {
     "slide_type": "slide"
    },
    "tags": []
   },
   "source": [
    "# Hands-on Activity\n",
    "\n",
    "- Reverse a sentence\n",
    "- Encrypt message\n"
   ]
  },
  {
   "cell_type": "markdown",
   "id": "eaa2793c",
   "metadata": {
    "slideshow": {
     "slide_type": "slide"
    }
   },
   "source": [
    "# Reverse a sentence\n",
    "\n",
    "Given a sentence from input, then reverse it"
   ]
  },
  {
   "cell_type": "markdown",
   "id": "927189de",
   "metadata": {
    "slideshow": {
     "slide_type": "subslide"
    }
   },
   "source": [
    "# Solution 1 - Loop\n",
    "\n",
    "Loop each character and push to head of the new string\n",
    "\n",
    "```\n",
    "s = input(\"Please input your sentence:\")\n",
    "reversed_s = \"\"\n",
    "for char in s:\n",
    "    reversed_s = char + reversed_s\n",
    "print(reversed_s)\n",
    "```"
   ]
  },
  {
   "cell_type": "markdown",
   "id": "3b61a918",
   "metadata": {
    "slideshow": {
     "slide_type": "subslide"
    }
   },
   "source": [
    "# Solution 2 - reverse function\n",
    "\n",
    "`reversed()` returns an iterator that can be joined back into a string\n",
    "\n",
    "```\n",
    "s = input(\"Please input your sentence:\")\n",
    "reversed_s = ''.join(reversed(s))\n",
    "print(reversed_s)\n",
    "```"
   ]
  },
  {
   "cell_type": "markdown",
   "id": "20192031",
   "metadata": {
    "slideshow": {
     "slide_type": "subslide"
    }
   },
   "source": [
    "# Solution 3 - string slicing\n",
    "\n",
    "```\n",
    "s = input(\"Please input your sentence:\")\n",
    "reversed_s = s[::-1]\n",
    "print(reversed_s)\n",
    "```"
   ]
  },
  {
   "cell_type": "markdown",
   "id": "6a258687",
   "metadata": {
    "slideshow": {
     "slide_type": "slide"
    }
   },
   "source": [
    "# String slicing\n",
    "\n",
    "String slicing in Python refers to the technique of extracting specific portions of a string, or, in more general terms, a sequence (which also includes lists and tuples)\n",
    "\n",
    "- **Square Brackets Syntax**: Slicing is performed by appending square brackets `[]` to the string\n",
    "- **Slice Parameters: string[start:stop:step]**:\n",
    "  - **start**: The starting index of the slice (inclusive). If omitted, it defaults to 0, meaning the slice will start from the beginning of the string.\n",
    "  - **stop**: The ending index of the slice (exclusive). If omitted, it defaults to the length of the string, meaning the slice will go to the end of the string.\n",
    "  - **step**: The amount by which the index increases, defaults to 1. If specified, it will extract every step-th item from the sequence. A negative step will reverse the direction of the extraction."
   ]
  },
  {
   "cell_type": "markdown",
   "id": "2427f74b",
   "metadata": {
    "slideshow": {
     "slide_type": "slide"
    }
   },
   "source": [
    "# String slicing - Cont.\n",
    "\n",
    "A few slicing samples `s=\"hello\"`:\n",
    "- **Basic**: `s[1:4]`  # extracting the characters at position 1, 2, and 3.\n",
    "- **Omitting Start**: `s[:3]`  # extracting the first three characters.\n",
    "- **Omitting Stop**: `s[3:]`  # extracting from the fourth character to the end.\n",
    "- **Using Negative Indices**: `s[-4:-1]`  # similar to s[1:4].\n",
    "- **Specifying Step**: `s[::2]`  # starting from the beginning to the end of the string, skipping one character.\n",
    "- **Reversing a String**: `s[::-1]`  # reversing a string by using a negative step.\n",
    "- **Slicing with Out-of-range Indices**: `s[:100]`  # it's fine if slicing indices are out of range."
   ]
  },
  {
   "cell_type": "markdown",
   "id": "f366bfb1",
   "metadata": {
    "slideshow": {
     "slide_type": "slide"
    }
   },
   "source": [
    "# Play around with slicing\n",
    "\n",
    "```\n",
    "s = \"hello\"\n",
    "print(f\"s[1:4]:{s[1:4]}\")\n",
    "print(f\"s[:3]:{s[:3]}\")\n",
    "print(f\"s[3:]:{s[3:]}\")\n",
    "print(f\"s[-4:-1]:{s[-4:-1]}\")\n",
    "print(f\"s[::2]:{s[::2]}\")\n",
    "print(f\"s[::-1]:{s[::-1]}\")\n",
    "print(f\"s[:100]:{s[:100]}\")\n",
    "print(f\"s[-100:100]:{s[:100]}\")\n",
    "```"
   ]
  },
  {
   "cell_type": "markdown",
   "id": "866565e8",
   "metadata": {
    "slideshow": {
     "slide_type": "slide"
    }
   },
   "source": [
    "# Encrypt message\n",
    "\n",
    "This time we will use a different method to encrypt a message. We will combine same characters next each other and put a number after it. Here are some samples:\n",
    "\n",
    "- abbc: a1b2c1\n",
    "- aAACCCa: a1A2C3a1"
   ]
  },
  {
   "cell_type": "code",
   "execution_count": null,
   "id": "2ab55243",
   "metadata": {
    "slideshow": {
     "slide_type": "slide"
    }
   },
   "outputs": [],
   "source": [
    "s = input(\"Please input your message:\")\n",
    "encrypt_s = \"\"\n",
    "len_s = len(s)\n",
    "i = 0\n",
    "while i < len_s:\n",
    "  encrypt_s += s[i]\n",
    "  count = 1\n",
    "  for j in range(i+1, len_s):\n",
    "    if s[j] == s[i]:\n",
    "      count += 1\n",
    "    else:\n",
    "      break\n",
    "  encrypt_s += str(count)\n",
    "  i += count\n",
    "\n",
    "print(encrypt_s)"
   ]
  },
  {
   "cell_type": "markdown",
   "id": "1b2d3b2b-c0dd-4bd7-ba97-0148dde09f69",
   "metadata": {
    "editable": true,
    "slideshow": {
     "slide_type": "slide"
    },
    "tags": []
   },
   "source": [
    "# Recap and Next Steps\n",
    "- **Recap**\n",
    "  - Dive into Strings\n",
    "  - Manipulating Strings\n",
    "  - Understanding User Input\n",
    "  - Hands-on Activity\n",
    "- **Next Session Preview**:\n",
    "  - Next time, we'll dive into Conditional Statements"
   ]
  },
  {
   "cell_type": "markdown",
   "id": "d20484e5-d7c8-4e8e-8429-245976ddbc2e",
   "metadata": {
    "editable": true,
    "slideshow": {
     "slide_type": "slide"
    },
    "tags": []
   },
   "source": [
    "# Homework\n",
    "\n",
    "Again, let us try to decrypt the message, for e.g.:\n",
    "\n",
    "- a1b2c1 -> abbc\n",
    "- a1A2C3a1 -> aAACCCa\n"
   ]
  }
 ],
 "metadata": {
  "celltoolbar": "Slideshow",
  "kernelspec": {
   "display_name": "Python 3 (ipykernel)",
   "language": "python",
   "name": "python3"
  },
  "language_info": {
   "codemirror_mode": {
    "name": "ipython",
    "version": 3
   },
   "file_extension": ".py",
   "mimetype": "text/x-python",
   "name": "python",
   "nbconvert_exporter": "python",
   "pygments_lexer": "ipython3",
   "version": "3.11.5"
  }
 },
 "nbformat": 4,
 "nbformat_minor": 5
}
