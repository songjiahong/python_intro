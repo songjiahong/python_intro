{
 "cells": [
  {
   "cell_type": "markdown",
   "id": "16f69c47-f2cf-44e9-966a-10478e8cc977",
   "metadata": {
    "editable": true,
    "jp-MarkdownHeadingCollapsed": true,
    "slideshow": {
     "slide_type": "slide"
    },
    "tags": []
   },
   "source": [
    "# Introduction to Functions\n",
    "\n",
    "## Session 6"
   ]
  },
  {
   "cell_type": "markdown",
   "id": "8ee507ed-cbce-43f7-bced-c2d78bc16f6e",
   "metadata": {
    "editable": true,
    "slideshow": {
     "slide_type": "slide"
    },
    "tags": []
   },
   "source": [
    "# Agenda\n",
    "\n",
    "- Recap\n",
    "- What are Functions?\n",
    "- Why Do We Need Functions?\n",
    "- Parameters and Arguments\n",
    "- Return values\n",
    "- Hands-on Activity"
   ]
  },
  {
   "cell_type": "markdown",
   "id": "3f79d902",
   "metadata": {
    "slideshow": {
     "slide_type": "slide"
    }
   },
   "source": [
    "# Recap\n",
    "\n",
    "- Introduction to Lists\n",
    "- Basic List Operations\n",
    "  - Access items\n",
    "  - Update item\n",
    "  - Add or insert item\n",
    "  - Delete item\n",
    "- Introduction to Loops\n",
    "  - `for`\n",
    "  - `while`\n",
    "- Textures"
   ]
  },
  {
   "cell_type": "markdown",
   "metadata": {
    "slideshow": {
     "slide_type": "slide"
    }
   },
   "source": [
    "# Homework\n",
    "\n",
    "When the ball is bouncing, press space will stop the bouncing"
   ]
  },
  {
   "cell_type": "code",
   "execution_count": null,
   "metadata": {
    "slideshow": {
     "slide_type": "slide"
    }
   },
   "outputs": [],
   "source": [
    "if event.key == pygame.K_SPACE:\n",
    "  # Jump when spacebar is pressed\n",
    "  if ball_speed == 0:\n",
    "    ball_speed = 5\n",
    "    angle_radians = random.uniform(0, math.pi)\n",
    "  else:\n",
    "    ball_speed = 0\n",
    "    ball_x = WIDTH // 2\n",
    "    ball_y = HEIGHT - BALL_RADIUS"
   ]
  },
  {
   "cell_type": "markdown",
   "id": "6995684b-150e-430f-a834-628c09f38ff9",
   "metadata": {
    "editable": true,
    "slideshow": {
     "slide_type": "slide"
    },
    "tags": []
   },
   "source": [
    "# What are Functions?\n",
    "\n",
    "- **Definition**: Functions are reusable pieces of code that perform a specific task.\n",
    "\n",
    "```\n",
    "def add(a, b):\n",
    "  return a + b\n",
    "\n",
    "print(add(1,2))\n",
    "```\n"
   ]
  },
  {
   "cell_type": "markdown",
   "metadata": {
    "slideshow": {
     "slide_type": "slide"
    }
   },
   "source": [
    "# Why Do We Need Functions?\n",
    "\n",
    "- Functions help us avoid repeating the same code.\n",
    "- They make our code easier to read and manage.\n",
    "- We can use functions written by others, saving time."
   ]
  },
  {
   "cell_type": "markdown",
   "id": "a4b0d193-45cd-47b6-9740-176d69210378",
   "metadata": {
    "editable": true,
    "slideshow": {
     "slide_type": "slide"
    },
    "tags": []
   },
   "source": [
    "# Parameters and Arguments\n",
    "\n",
    "- **Definition**:\n",
    "  - Parameter: A variable used in the function definition.\n",
    "  - Argument: A value passed to the function when it is called.\n",
    "- **Example Code**:\n",
    "```\n",
    "def greet(name):\n",
    "    print(f\"Hello, {name}!\")\n",
    "\n",
    "greet(\"Alice\")\n",
    "```"
   ]
  },
  {
   "cell_type": "markdown",
   "id": "fcf0a087-5535-4c67-9a74-fabb8b3a5f31",
   "metadata": {
    "editable": true,
    "slideshow": {
     "slide_type": "slide"
    },
    "tags": []
   },
   "source": [
    "# Return Values\n",
    "\n",
    "- **Explanation**: we can use the return statement to send a result back from the function.\n",
    "- **Example Code**:\n",
    "```\n",
    "def square(number):\n",
    "    return number ** 2\n",
    "\n",
    "num = int(input(\"Enter a number: \"))\n",
    "print(f\"The square of {num} is {square(num)}.\")\n",
    "```"
   ]
  },
  {
   "cell_type": "markdown",
   "id": "1b2d3b2b-c0dd-4bd7-ba97-0148dde09f69",
   "metadata": {
    "editable": true,
    "slideshow": {
     "slide_type": "slide"
    },
    "tags": []
   },
   "source": [
    "# Recap and Next Steps\n",
    "- **Recap**\n",
    "  - What are Functions?\n",
    "  - Why Do We Need Functions?\n",
    "  - Parameters and Arguments\n",
    "  - Return values\n",
    "  - Hands-on Activity\n",
    "- **Next Session Preview**:\n",
    "  - Next time, we'll dive into OOP and Modules"
   ]
  },
  {
   "cell_type": "markdown",
   "id": "d20484e5-d7c8-4e8e-8429-245976ddbc2e",
   "metadata": {
    "editable": true,
    "slideshow": {
     "slide_type": "slide"
    },
    "tags": []
   },
   "source": [
    "# Homework\n",
    "\n"
   ]
  }
 ],
 "metadata": {
  "celltoolbar": "Slideshow",
  "kernelspec": {
   "display_name": "Python 3 (ipykernel)",
   "language": "python",
   "name": "python3"
  },
  "language_info": {
   "codemirror_mode": {
    "name": "ipython",
    "version": 3
   },
   "file_extension": ".py",
   "mimetype": "text/x-python",
   "name": "python",
   "nbconvert_exporter": "python",
   "pygments_lexer": "ipython3",
   "version": "3.11.5"
  }
 },
 "nbformat": 4,
 "nbformat_minor": 5
}
