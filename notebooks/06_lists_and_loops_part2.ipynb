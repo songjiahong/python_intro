{
 "cells": [
  {
   "cell_type": "markdown",
   "id": "16f69c47-f2cf-44e9-966a-10478e8cc977",
   "metadata": {
    "editable": true,
    "jp-MarkdownHeadingCollapsed": true,
    "slideshow": {
     "slide_type": "slide"
    },
    "tags": []
   },
   "source": [
    "# Delving Deeper into Lists and Loops (Part 2)\n",
    "\n",
    "## Session 6\n",
    "\n",
    "Image: Consider using an image related to lists or loops, perhaps a continuation or deeper dive metaphor like a submarine or a treasure hunt"
   ]
  },
  {
   "cell_type": "markdown",
   "id": "8ee507ed-cbce-43f7-bced-c2d78bc16f6e",
   "metadata": {
    "editable": true,
    "slideshow": {
     "slide_type": "slide"
    },
    "tags": []
   },
   "source": [
    "# Agenda\n",
    "\n",
    "- Recap\n",
    "- Advanced List Operations\n",
    "- Introduction to while Loops\n",
    "- Building a Simple Game\n",
    "- Hands-on Activity"
   ]
  },
  {
   "cell_type": "markdown",
   "id": "3f79d902",
   "metadata": {},
   "source": [
    "# Recap\n",
    "\n",
    "- Dive into Strings\n",
    "- Manipulating Strings\n",
    "- Understanding User Input"
   ]
  },
  {
   "cell_type": "markdown",
   "id": "6995684b-150e-430f-a834-628c09f38ff9",
   "metadata": {
    "editable": true,
    "slideshow": {
     "slide_type": "slide"
    },
    "tags": []
   },
   "source": [
    "# Advanced List Operations\n",
    "\n",
    "- **Explanation**: Discuss more operations like sorting, reversing, and nested lists.\n",
    "- **Example Code**:\n",
    "```\n",
    "my_list.sort()\n",
    "my_list.reverse()\n",
    "nested_list = [[1, 2, 3], [4, 5, 6]]\n",
    "```\n",
    "- Image: Illustration of operations on a list or a nested list.\n"
   ]
  },
  {
   "cell_type": "markdown",
   "id": "a6315bf9-021f-4f36-a079-df9f576e13c3",
   "metadata": {
    "editable": true,
    "slideshow": {
     "slide_type": "slide"
    },
    "tags": []
   },
   "source": [
    "# The while Loop\n",
    "\n",
    "- **Definition**: A while loop repeats as long as a certain condition is true.\n",
    "- **Example Code**:\n",
    "```\n",
    "count = 0\n",
    "while count < 5:\n",
    "    print(count)\n",
    "    count += 1\n",
    "```\n",
    "- Key Points: Explain the condition, indentation, and how to avoid infinite loops.\n",
    "- Image: Illustration of a while loop in a flowchart.\n"
   ]
  },
  {
   "cell_type": "markdown",
   "id": "a4b0d193-45cd-47b6-9740-176d69210378",
   "metadata": {
    "editable": true,
    "slideshow": {
     "slide_type": "slide"
    },
    "tags": []
   },
   "source": [
    "# Building a Simple Game\n",
    "\n",
    "- **Explanation**: Introduce the concept of building a simple game using loops.\n",
    "- **Example Code**:\n",
    "```\n",
    "secret_number = 5\n",
    "guess = int(input(\"Guess the secret number: \"))\n",
    "while guess != secret_number:\n",
    "    print(\"Wrong guess, try again!\")\n",
    "    guess = int(input(\"Guess the secret number: \"))\n",
    "print(\"Congratulations! You guessed it!\")\n",
    "```\n",
    "- Image: Illustration of a guessing game or a celebratory image."
   ]
  },
  {
   "cell_type": "markdown",
   "id": "483d489d-c3ac-4853-9fa1-b89c110c8ab9",
   "metadata": {
    "editable": true,
    "slideshow": {
     "slide_type": "slide"
    },
    "tags": []
   },
   "source": [
    "# Hands-on Activity\n",
    "- **Activity Description**: Create a program that asks the user to add items to a shopping list until they enter 'done', then prints all items.\n",
    "\n",
    "- **Example Code**:\n",
    "```\n",
    "shopping_list = []\n",
    "item = input(\"Add an item to your shopping list (or type 'done' to finish): \")\n",
    "while item.lower() != 'done':\n",
    "    shopping_list.append(item)\n",
    "    item = input(\"Add an item to your shopping list (or type 'done' to finish): \")\n",
    "\n",
    "print(\"Your shopping list:\")\n",
    "for item in shopping_list:\n",
    "    print(item)\n",
    "```\n"
   ]
  },
  {
   "cell_type": "markdown",
   "id": "1b2d3b2b-c0dd-4bd7-ba97-0148dde09f69",
   "metadata": {
    "editable": true,
    "slideshow": {
     "slide_type": "slide"
    },
    "tags": []
   },
   "source": [
    "# Recap and Next Steps\n",
    "- **Recap**\n",
    "  - Dive into Strings\n",
    "  - Manipulating Strings\n",
    "  - Understanding User Input\n",
    "  - Hands-on Activity\n",
    "- **Next Session Preview**:\n",
    "  - Next time, we'll dive into Functions"
   ]
  },
  {
   "cell_type": "markdown",
   "id": "d20484e5-d7c8-4e8e-8429-245976ddbc2e",
   "metadata": {
    "editable": true,
    "slideshow": {
     "slide_type": "slide"
    },
    "tags": []
   },
   "source": [
    "# Homework\n",
    "\n"
   ]
  }
 ],
 "metadata": {
  "celltoolbar": "Slideshow",
  "kernelspec": {
   "display_name": "Python 3 (ipykernel)",
   "language": "python",
   "name": "python3"
  },
  "language_info": {
   "codemirror_mode": {
    "name": "ipython",
    "version": 3
   },
   "file_extension": ".py",
   "mimetype": "text/x-python",
   "name": "python",
   "nbconvert_exporter": "python",
   "pygments_lexer": "ipython3",
   "version": "3.11.5"
  }
 },
 "nbformat": 4,
 "nbformat_minor": 5
}
