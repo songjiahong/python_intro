{
 "cells": [
  {
   "cell_type": "markdown",
   "id": "16f69c47-f2cf-44e9-966a-10478e8cc977",
   "metadata": {
    "editable": true,
    "jp-MarkdownHeadingCollapsed": true,
    "slideshow": {
     "slide_type": "slide"
    },
    "tags": []
   },
   "source": [
    "# List Loops and Textures\n",
    "\n",
    "## Session 5"
   ]
  },
  {
   "cell_type": "markdown",
   "id": "8ee507ed-cbce-43f7-bced-c2d78bc16f6e",
   "metadata": {
    "editable": true,
    "slideshow": {
     "slide_type": "slide"
    },
    "tags": []
   },
   "source": [
    "# Agenda\n",
    "\n",
    "- Recap\n",
    "- Introduction to Lists\n",
    "- Basic List Operations\n",
    "- Introduction to Loops\n",
    "- Textures\n",
    "- Hands-on Activity"
   ]
  },
  {
   "cell_type": "markdown",
   "id": "3f79d902",
   "metadata": {
    "slideshow": {
     "slide_type": "slide"
    }
   },
   "source": [
    "# Recap\n",
    "\n",
    "- Reading Code\n",
    "- Understanding Conditional Statements\n",
    "- Exploring `if`, `elif`, and `else`\n",
    "- Coordination system and screen resolution\n",
    "- pygame and draw ball in screen"
   ]
  },
  {
   "cell_type": "markdown",
   "metadata": {
    "slideshow": {
     "slide_type": "slide"
    }
   },
   "source": [
    "# Homework\n",
    "\n",
    "Based on the current game, draw around walls with color blue."
   ]
  },
  {
   "cell_type": "code",
   "execution_count": null,
   "metadata": {
    "slideshow": {
     "slide_type": "slide"
    }
   },
   "outputs": [],
   "source": [
    "import pygame\n",
    "import sys\n",
    "\n",
    "# Initialize pygame\n",
    "pygame.init()\n",
    "WIDTH, HEIGHT = 400, 300\n",
    "BALL_RADIUS = 20\n",
    "WALL_THICKNESS = 10\n",
    "screen = pygame.display.set_mode((WIDTH, HEIGHT))\n",
    "ball_x = WIDTH // 2\n",
    "ball_y = HEIGHT - WALL_THICKNESS - BALL_RADIUS\n",
    "ball_speed_y = 0\n",
    "clock = pygame.time.Clock()\n",
    "# game loop\n",
    "running = True\n",
    "while running:\n",
    "  for event in pygame.event.get():\n",
    "    if event.type == pygame.QUIT:\n",
    "      running = False\n",
    "    elif event.type == pygame.KEYDOWN:\n",
    "      if event.key == pygame.K_SPACE:\n",
    "        ball_speed_y = 2\n",
    "  # draw the background\n",
    "  screen.fill((255, 255, 255))\n",
    "  ball_y += ball_speed_y\n",
    "  if ball_y > HEIGHT - BALL_RADIUS - WALL_THICKNESS:\n",
    "    ball_y = HEIGHT - BALL_RADIUS - WALL_THICKNESS\n",
    "    ball_speed_y = -ball_speed_y\n",
    "  elif ball_y < BALL_RADIUS + WALL_THICKNESS:\n",
    "    ball_y = BALL_RADIUS + WALL_THICKNESS\n",
    "    ball_speed_y = -ball_speed_y\n",
    "  # draw the ball\n",
    "  pygame.draw.rect(screen, (0,0,0), (0, 0, WIDTH, HEIGHT), WALL_THICKNESS)\n",
    "  pygame.draw.circle(screen, (255, 0, 0), (ball_x, ball_y), BALL_RADIUS)\n",
    "  pygame.display.flip()\n",
    "  clock.tick(60)\n",
    "\n",
    "pygame.quit()\n",
    "sys.exit()"
   ]
  },
  {
   "cell_type": "markdown",
   "id": "6995684b-150e-430f-a834-628c09f38ff9",
   "metadata": {
    "editable": true,
    "slideshow": {
     "slide_type": "slide"
    },
    "tags": []
   },
   "source": [
    "# Introduction to Lists\n",
    "\n",
    "- **Definition**: Lists are ordered collections of items.\n",
    "- **Key Points**:\n",
    "  - Lists can contain different types of items.\n",
    "  - Items in a list are ordered and can be accessed by index.\n",
    "\n",
    "**NOTE**: List can contain different type of elements. Like: `[12, 'A', 3.1, [1,2]]`\n"
   ]
  },
  {
   "cell_type": "markdown",
   "id": "a6315bf9-021f-4f36-a079-df9f576e13c3",
   "metadata": {
    "editable": true,
    "slideshow": {
     "slide_type": "slide"
    },
    "tags": []
   },
   "source": [
    "# Basic List Operations\n",
    "\n",
    "- **Explanation**: Discuss basic operations like accessing, modifying, adding, and removing items.\n",
    "- **Key Points**: suppose we have a list: `my_list = [1, 2, 3, 4, 5]`\n",
    "  - Access By Index: `my_list[0]`\n",
    "  - Modify By Index: `my_list[0] = 10`\n",
    "  - Append: `my_list.append(6)`\n",
    "  - Insert: `my_list.insert(2, 7)  # Insert the value 7 at index 2`\n",
    "  - Remove By Index:\n",
    "    - One way: `removed_element = my_list.pop(2)  # Removes the element at index 2`\n",
    "    - Other way: `del my_list[2]  # Removes the element at index 2`\n",
    "  - Remove By Value: `my_list.remove(3)  # Removes the first occurrence of 3`\n",
    "  "
   ]
  },
  {
   "cell_type": "markdown",
   "metadata": {
    "slideshow": {
     "slide_type": "slide"
    }
   },
   "source": [
    "# Some practice for list"
   ]
  },
  {
   "cell_type": "markdown",
   "id": "a4b0d193-45cd-47b6-9740-176d69210378",
   "metadata": {
    "editable": true,
    "slideshow": {
     "slide_type": "slide"
    },
    "tags": []
   },
   "source": [
    "# Introduction to Loops\n",
    "\n",
    "- **for loop**: Loops items in a list\n",
    "- **while loop**: Loops until a condition check fails"
   ]
  },
  {
   "cell_type": "markdown",
   "id": "fcf0a087-5535-4c67-9a74-fabb8b3a5f31",
   "metadata": {
    "editable": true,
    "slideshow": {
     "slide_type": "slide"
    },
    "tags": []
   },
   "source": [
    "# The for Loop\n",
    "\n",
    "- **Explanation**: a `for` loop is used for iterating over a sequence\n",
    "- **Type of Sequence**:\n",
    "  - list: `[1,2,3]`\n",
    "  - tuple: `(\"apple\", \"banana\", \"cherry\")`\n",
    "  - dictionary: `{\"name\": \"John\", \"age\": 30}`\n",
    "  - set: `{\"apple\", \"banana\", \"cherry\"}`\n",
    "  - string: `apple`\n",
    "  - Any other iterable object"
   ]
  },
  {
   "cell_type": "markdown",
   "metadata": {
    "slideshow": {
     "slide_type": "slide"
    }
   },
   "source": [
    "# The while Loop\n",
    "\n",
    "- **Definition**: A while loop repeats as long as a certain condition is true.\n",
    "- **Example Code**:\n",
    "```\n",
    "count = 0\n",
    "while count < 5:\n",
    "    print(count)\n",
    "    count += 1\n",
    "```\n",
    "- **Key Points**: Explain the condition, indentation, and how to avoid infinite loops.\n",
    "- **Infinite loops**: a loop condition is always true\n",
    "```\n",
    "while true:\n",
    "    print('hello world')\n",
    "```"
   ]
  },
  {
   "cell_type": "code",
   "execution_count": null,
   "metadata": {
    "slideshow": {
     "slide_type": "slide"
    }
   },
   "outputs": [],
   "source": [
    "import pygame\n",
    "import sys\n",
    "\n",
    "# Initialize pygame\n",
    "pygame.init()\n",
    "WIDTH, HEIGHT = 400, 300\n",
    "BALL_RADIUS = 30\n",
    "screen = pygame.display.set_mode((WIDTH, HEIGHT))\n",
    "\n",
    "image = pygame.image.load(\"ball.png\").convert_alpha()\n",
    "image = pygame.transform.scale(image,(BALL_RADIUS,BALL_RADIUS))\n",
    "ball_x = WIDTH // 2\n",
    "ball_y = HEIGHT - BALL_RADIUS\n",
    "ball_speed_y = 0\n",
    "clock = pygame.time.Clock()\n",
    "# game loop\n",
    "running = True\n",
    "while running:\n",
    "  for event in pygame.event.get():\n",
    "    if event.type == pygame.QUIT:\n",
    "      running = False\n",
    "    elif event.type == pygame.KEYDOWN:\n",
    "      if event.key == pygame.K_SPACE:\n",
    "        ball_speed_y = 2\n",
    "  # draw the background\n",
    "  screen.fill((255, 255, 255))\n",
    "  ball_y += ball_speed_y\n",
    "  if ball_y > HEIGHT - BALL_RADIUS:\n",
    "    ball_y = HEIGHT - BALL_RADIUS\n",
    "    ball_speed_y = -ball_speed_y\n",
    "  elif ball_y < 0:\n",
    "    ball_y = 0\n",
    "    ball_speed_y = -ball_speed_y\n",
    "  # draw the ball\n",
    "  screen.blit(image, (ball_x, ball_y))\n",
    "  pygame.display.flip()\n",
    "  clock.tick(60)\n",
    "\n",
    "pygame.quit()\n",
    "sys.exit()"
   ]
  },
  {
   "cell_type": "markdown",
   "metadata": {
    "slideshow": {
     "slide_type": "slide"
    }
   },
   "source": [
    "# Texture\n",
    "\n",
    "```\n",
    "image = pygame.image.load(\"ball.png\").convert_alpha()\n",
    "image = pygame.transform.scale(image,(BALL_RADIUS,BALL_RADIUS))\n",
    "# Draw the image\n",
    "screen.blit(image, (ball_x, ball_y))\n",
    "```\n"
   ]
  },
  {
   "cell_type": "markdown",
   "metadata": {
    "slideshow": {
     "slide_type": "slide"
    }
   },
   "source": [
    "# How to calc speed\n",
    "\n",
    "![sin_cos](./images/sin_cos.png) "
   ]
  },
  {
   "cell_type": "code",
   "execution_count": null,
   "metadata": {
    "slideshow": {
     "slide_type": "slide"
    }
   },
   "outputs": [],
   "source": [
    "import pygame\n",
    "import sys\n",
    "import random\n",
    "import math\n",
    "\n",
    "# Initialize pygame\n",
    "pygame.init()\n",
    "WIDTH, HEIGHT = 400, 300\n",
    "BALL_RADIUS = 30\n",
    "screen = pygame.display.set_mode((WIDTH, HEIGHT))\n",
    "\n",
    "image = pygame.image.load(\"ball.png\").convert_alpha()\n",
    "image = pygame.transform.scale(image,(BALL_RADIUS,BALL_RADIUS))\n",
    "ball_x = WIDTH // 2\n",
    "ball_y = HEIGHT - BALL_RADIUS\n",
    "ball_speed = 0\n",
    "angle_radians = 0\n",
    "\n",
    "clock = pygame.time.Clock()\n",
    "# game loop\n",
    "running = True\n",
    "while running:\n",
    "  for event in pygame.event.get():\n",
    "    if event.type == pygame.QUIT:\n",
    "      running = False\n",
    "    elif event.type == pygame.KEYDOWN:\n",
    "      if event.key == pygame.K_SPACE:\n",
    "        # Jump when spacebar is pressed\n",
    "        ball_speed = 5\n",
    "        angle_radians = random.uniform(0, math.pi)\n",
    "  # draw the background\n",
    "  screen.fill((255, 255, 255))\n",
    "  # Update ball position\n",
    "  ball_x += ball_speed * math.cos(angle_radians)\n",
    "  ball_y += ball_speed * math.sin(angle_radians)\n",
    "  # Prevent the ball from going out of the screen\n",
    "  if HEIGHT - BALL_RADIUS < ball_y:\n",
    "    ball_y = HEIGHT - BALL_RADIUS\n",
    "    angle_radians = -angle_radians\n",
    "  elif ball_y < 0:\n",
    "    ball_y = 0\n",
    "    angle_radians = -angle_radians\n",
    "  elif ball_x < 0:\n",
    "    ball_x = 0\n",
    "    angle_radians = math.pi - angle_radians\n",
    "  elif WIDTH - BALL_RADIUS < ball_x:\n",
    "    ball_x = WIDTH - BALL_RADIUS\n",
    "    angle_radians = math.pi - angle_radians\n",
    "  # draw the ball\n",
    "  screen.blit(image, (ball_x, ball_y))  \n",
    "  pygame.display.flip()\n",
    "  clock.tick(60)\n",
    "\n",
    "pygame.quit()\n",
    "sys.exit()"
   ]
  },
  {
   "cell_type": "markdown",
   "id": "1b2d3b2b-c0dd-4bd7-ba97-0148dde09f69",
   "metadata": {
    "editable": true,
    "slideshow": {
     "slide_type": "slide"
    },
    "tags": []
   },
   "source": [
    "# Recap and Next Steps\n",
    "- **Recap**\n",
    "  - Introduction to Lists\n",
    "  - Basic List Operations\n",
    "  - Introduction to Loops\n",
    "  - Textures\n",
    "  - Hands-on Activity\n",
    "- **Next Session Preview**:\n",
    "  - Next time, we'll dive into Functions"
   ]
  },
  {
   "cell_type": "markdown",
   "id": "d20484e5-d7c8-4e8e-8429-245976ddbc2e",
   "metadata": {
    "editable": true,
    "slideshow": {
     "slide_type": "slide"
    },
    "tags": []
   },
   "source": [
    "# Homework\n",
    "\n",
    "When the ball is bouncing, press space will stop the bouncing"
   ]
  }
 ],
 "metadata": {
  "celltoolbar": "Slideshow",
  "kernelspec": {
   "display_name": "Python 3 (ipykernel)",
   "language": "python",
   "name": "python3"
  },
  "language_info": {
   "codemirror_mode": {
    "name": "ipython",
    "version": 3
   },
   "file_extension": ".py",
   "mimetype": "text/x-python",
   "name": "python",
   "nbconvert_exporter": "python",
   "pygments_lexer": "ipython3",
   "version": "3.11.5"
  }
 },
 "nbformat": 4,
 "nbformat_minor": 5
}
