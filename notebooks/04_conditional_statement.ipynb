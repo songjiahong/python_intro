{
 "cells": [
  {
   "cell_type": "markdown",
   "id": "16f69c47-f2cf-44e9-966a-10478e8cc977",
   "metadata": {
    "editable": true,
    "jp-MarkdownHeadingCollapsed": true,
    "slideshow": {
     "slide_type": "slide"
    },
    "tags": []
   },
   "source": [
    "# Diving into Conditional Statements\n",
    "\n",
    "## Session 4"
   ]
  },
  {
   "cell_type": "markdown",
   "id": "8ee507ed-cbce-43f7-bced-c2d78bc16f6e",
   "metadata": {
    "editable": true,
    "slideshow": {
     "slide_type": "slide"
    },
    "tags": []
   },
   "source": [
    "# Agenda\n",
    "\n",
    "- Recap\n",
    "- Reading Code\n",
    "- Understanding Conditional Statements\n",
    "- Exploring `if`, `elif`, and `else`\n",
    "- pygame\n",
    "- Hands-on Activity"
   ]
  },
  {
   "cell_type": "markdown",
   "id": "3f79d902",
   "metadata": {
    "slideshow": {
     "slide_type": "slide"
    }
   },
   "source": [
    "# Recap\n",
    "\n",
    "- Dive into Strings\n",
    "- Manipulating Strings\n",
    "- Understanding User Input"
   ]
  },
  {
   "cell_type": "markdown",
   "id": "666f827b",
   "metadata": {
    "slideshow": {
     "slide_type": "slide"
    }
   },
   "source": [
    "# Homework\n",
    "\n",
    "Again, let us try to decrypt the message, for e.g.:\n",
    "\n",
    "- a1b2c1 -> abbc\n",
    "- a1A2C3a1 -> aAACCCa"
   ]
  },
  {
   "cell_type": "code",
   "execution_count": null,
   "id": "6c989101",
   "metadata": {
    "slideshow": {
     "slide_type": "slide"
    }
   },
   "outputs": [],
   "source": [
    "s = input(\"Please input your encrypted message:\")\n",
    "decrypt_s = \"\"\n",
    "len_s = len(s)\n",
    "i = 0\n",
    "while i < len_s:\n",
    "  j = i + 1\n",
    "  while j < len_s and s[j].isdigit():\n",
    "    j += 1\n",
    "  decrypt_s += s[i] * int(s[i+1:j])\n",
    "  i = j\n",
    "\n",
    "print(decrypt_s)"
   ]
  },
  {
   "cell_type": "markdown",
   "id": "4d9b43bf",
   "metadata": {
    "slideshow": {
     "slide_type": "slide"
    }
   },
   "source": [
    "# Reading code\n",
    "\n",
    "## Reading code is quite essential for learning code\n",
    "\n",
    "Please try to find bugs in the following code"
   ]
  },
  {
   "cell_type": "code",
   "execution_count": null,
   "id": "df4117ea",
   "metadata": {
    "slideshow": {
     "slide_type": "slide"
    }
   },
   "outputs": [],
   "source": [
    "s = input(\"Please input your encrypted message:\")\n",
    "decrypt_s = \"\"\n",
    "len_s = len(s)\n",
    "i = 0\n",
    "while i < len_s\n",
    "  j = i + 1\n",
    "  while j < len_s and s[j].isdigit():\n",
    "  j += 1\n",
    "    decrypt_s += s[i] * int(s[i+1:j])\n",
    "  i = j\n",
    "\n",
    "print(decrypt_s)"
   ]
  },
  {
   "cell_type": "markdown",
   "id": "6995684b-150e-430f-a834-628c09f38ff9",
   "metadata": {
    "editable": true,
    "slideshow": {
     "slide_type": "slide"
    },
    "tags": []
   },
   "source": [
    "# What are Conditional Statements?\n",
    "\n",
    "- **Definition**: Conditional statements allow the program to make decisions.\n",
    "- **Key Points**:\n",
    "  - Execute different code based on a condition.\n",
    "  - Use comparison operators to create conditions.\n"
   ]
  },
  {
   "cell_type": "markdown",
   "id": "a6315bf9-021f-4f36-a079-df9f576e13c3",
   "metadata": {
    "editable": true,
    "slideshow": {
     "slide_type": "slide"
    },
    "tags": []
   },
   "source": [
    "# Comparison Operators\n",
    "\n",
    "- **Explanation**: Introduce operators used to compare values.\n",
    "- **Operators**:\n",
    "  - `==`: Equal to\n",
    "  - `!=`: Not equal to\n",
    "  - `<`: Less than\n",
    "  - `>`: Greater than\n",
    "  - `<=`: Less than or equal to\n",
    "  - `>=`: Greater than or equal to\n"
   ]
  },
  {
   "cell_type": "markdown",
   "id": "a4b0d193-45cd-47b6-9740-176d69210378",
   "metadata": {
    "editable": true,
    "slideshow": {
     "slide_type": "slide"
    },
    "tags": []
   },
   "source": [
    "# The `if` Statement\n",
    "\n",
    "- **Explanation**: Discuss using if to execute code based on a condition.\n",
    "- **Example Code**:\n",
    "```\n",
    "age = 15\n",
    "if age >= 18:\n",
    "    print(\"You are an adult.\")\n",
    "```"
   ]
  },
  {
   "cell_type": "markdown",
   "id": "fcf0a087-5535-4c67-9a74-fabb8b3a5f31",
   "metadata": {
    "editable": true,
    "slideshow": {
     "slide_type": "slide"
    },
    "tags": []
   },
   "source": [
    "# The `else` Statement\n",
    "\n",
    "- **Explanation**: Introduce `else` to handle when the `if` condition is false.\n",
    "- **Example Code**:\n",
    "```\n",
    "age = 15\n",
    "if age >= 18:\n",
    "    print(\"You are an adult.\")\n",
    "else:\n",
    "    print(\"You are a minor.\")\n",
    "```\n"
   ]
  },
  {
   "cell_type": "markdown",
   "id": "c35833d1-6406-482e-90e9-6a86eaa6f352",
   "metadata": {
    "editable": true,
    "slideshow": {
     "slide_type": "slide"
    },
    "tags": []
   },
   "source": [
    "# The `elif` Statement\n",
    "\n",
    "- **Explanation**: Introduce `elif` to handle multiple conditions\n",
    "- **Example Code**:\n",
    "```\n",
    "age = 15\n",
    "if age >= 18:\n",
    "    print(\"You are an adult.\")\n",
    "elif age >= 13:\n",
    "    print(\"You are a teenager.\")\n",
    "else:\n",
    "    print(\"You are a child.\")\n",
    "```"
   ]
  },
  {
   "cell_type": "markdown",
   "id": "483d489d-c3ac-4853-9fa1-b89c110c8ab9",
   "metadata": {
    "editable": true,
    "slideshow": {
     "slide_type": "slide"
    },
    "tags": []
   },
   "source": [
    "# Hands-on Activity\n",
    "- **Activity Description**: Create a game which a ball will bump on walls\n"
   ]
  },
  {
   "cell_type": "markdown",
   "id": "5506eafd",
   "metadata": {
    "slideshow": {
     "slide_type": "slide"
    }
   },
   "source": [
    "# Coordination system\n",
    "\n",
    "![coordinate](./images/coordinate_system.png) "
   ]
  },
  {
   "cell_type": "markdown",
   "id": "384f248d",
   "metadata": {
    "slideshow": {
     "slide_type": "slide"
    }
   },
   "source": [
    "# Screen resolution\n",
    "\n",
    "Different devices like phone, pad, TV may have different resolutions.\n",
    "\n",
    "- iPhone 15 Pro Max : 1290 x 2796 pixels\n",
    "- 1080p (1920 × 1080 progressive scan)\n",
    "- 4K (3840 × 2160 progressive scan)"
   ]
  },
  {
   "cell_type": "markdown",
   "id": "0c656aec",
   "metadata": {
    "slideshow": {
     "slide_type": "slide"
    }
   },
   "source": [
    "# Colors and Transparent Colors\n",
    "\n",
    "- Primary colors of light: red, green, and blue\n",
    "- (red, green, blue, transparency) each value from 0 to 255\n",
    "- (0, 0, 0) indicates the absence of any color which is black\n",
    "- (255, 255, 255) means all the primary colors are present in their maximum amount which is white\n",
    "- (255, 0, 0) red\n",
    "- (0, 255, 0) green\n",
    "- (0, 0, 255) blue\n",
    "- (0, 0, 255, 128) 50% transparent blue"
   ]
  },
  {
   "cell_type": "markdown",
   "id": "edb8da52",
   "metadata": {
    "slideshow": {
     "slide_type": "slide"
    }
   },
   "source": [
    "pip install pygame"
   ]
  },
  {
   "cell_type": "code",
   "execution_count": null,
   "id": "3ba69bf7",
   "metadata": {
    "slideshow": {
     "slide_type": "slide"
    }
   },
   "outputs": [],
   "source": [
    "import pygame\n",
    "import sys\n",
    "\n",
    "# Initialize Pygame\n",
    "pygame.init()\n",
    "WIDTH, HEIGHT = 400, 300\n",
    "screen = pygame.display.set_mode((WIDTH, HEIGHT))\n",
    "\n",
    "# Game loop\n",
    "running = True\n",
    "while running:\n",
    "  for event in pygame.event.get():\n",
    "    if event.type == pygame.QUIT:\n",
    "      running = False\n",
    "\n",
    "  # Draw the background\n",
    "  screen.fill((255, 255, 255))\n",
    "\n",
    "  # Draw the ball\n",
    "  pygame.draw.circle(screen, (255, 0, 0), (200, 150), 20)\n",
    "\n",
    "  pygame.display.flip()\n",
    "\n",
    "# Quit the game\n",
    "pygame.quit()\n",
    "sys.exit()\n"
   ]
  },
  {
   "cell_type": "code",
   "execution_count": null,
   "id": "329935c7",
   "metadata": {
    "slideshow": {
     "slide_type": "slide"
    }
   },
   "outputs": [],
   "source": [
    "import pygame\n",
    "import sys\n",
    "\n",
    "# Initialize Pygame\n",
    "pygame.init()\n",
    "\n",
    "# Constants\n",
    "WIDTH, HEIGHT = 400, 300\n",
    "WHITE = (255, 255, 255)\n",
    "BALL_RADIUS = 20\n",
    "JUMP_STRENGTH = 1  # Jump strength\n",
    "\n",
    "# Create a window\n",
    "screen = pygame.display.set_mode((WIDTH, HEIGHT))\n",
    "pygame.display.set_caption(\"Bump the Ball\")\n",
    "\n",
    "# Ball properties\n",
    "ball_x = WIDTH // 2\n",
    "ball_y = BALL_RADIUS\n",
    "ball_speed_y = 0\n",
    "\n",
    "# Game loop\n",
    "running = True\n",
    "while running:\n",
    "  for event in pygame.event.get():\n",
    "    if event.type == pygame.QUIT:\n",
    "      running = False\n",
    "    elif event.type == pygame.KEYDOWN:\n",
    "      if event.key == pygame.K_SPACE:\n",
    "        # Jump when spacebar is pressed\n",
    "        ball_speed_y = JUMP_STRENGTH\n",
    "\n",
    "  # Update ball position\n",
    "  ball_y += ball_speed_y\n",
    "\n",
    "  # Prevent the ball from going out of the screen\n",
    "  if HEIGHT - BALL_RADIUS < ball_y:\n",
    "    ball_y = HEIGHT - BALL_RADIUS\n",
    "    ball_speed_y = -ball_speed_y\n",
    "  elif ball_y < BALL_RADIUS:\n",
    "    ball_y = BALL_RADIUS\n",
    "    ball_speed_y = -ball_speed_y\n",
    "\n",
    "  # Draw the background\n",
    "  screen.fill(WHITE)\n",
    "\n",
    "  # Draw the ball\n",
    "  pygame.draw.circle(screen, (255, 0, 0), (ball_x, ball_y), BALL_RADIUS)\n",
    "\n",
    "  pygame.display.flip()\n",
    "\n",
    "# Quit the game\n",
    "pygame.quit()\n",
    "sys.exit()"
   ]
  },
  {
   "cell_type": "markdown",
   "id": "bb9e4d36",
   "metadata": {
    "slideshow": {
     "slide_type": "slide"
    }
   },
   "source": [
    "# How to calc speed\n",
    "\n",
    "![sin_cos](./images/sin_cos.png) "
   ]
  },
  {
   "cell_type": "markdown",
   "id": "1b2d3b2b-c0dd-4bd7-ba97-0148dde09f69",
   "metadata": {
    "editable": true,
    "slideshow": {
     "slide_type": "slide"
    },
    "tags": []
   },
   "source": [
    "# Recap and Next Steps\n",
    "- **Recap**\n",
    "  - Reading Code\n",
    "  - Understanding Conditional Statements\n",
    "  - Exploring `if`, `elif`, and `else`\n",
    "  - Hands-on Activity\n",
    "- **Next Session Preview**:\n",
    "  - Next time, we'll dive into Lists and Loops"
   ]
  },
  {
   "cell_type": "markdown",
   "id": "d20484e5-d7c8-4e8e-8429-245976ddbc2e",
   "metadata": {
    "editable": true,
    "slideshow": {
     "slide_type": "slide"
    },
    "tags": []
   },
   "source": [
    "# Homework\n",
    "\n",
    "Based on the current game, draw around walls with color blue."
   ]
  }
 ],
 "metadata": {
  "celltoolbar": "Slideshow",
  "kernelspec": {
   "display_name": "Python 3 (ipykernel)",
   "language": "python",
   "name": "python3"
  },
  "language_info": {
   "codemirror_mode": {
    "name": "ipython",
    "version": 3
   },
   "file_extension": ".py",
   "mimetype": "text/x-python",
   "name": "python",
   "nbconvert_exporter": "python",
   "pygments_lexer": "ipython3",
   "version": "3.11.5"
  }
 },
 "nbformat": 4,
 "nbformat_minor": 5
}
