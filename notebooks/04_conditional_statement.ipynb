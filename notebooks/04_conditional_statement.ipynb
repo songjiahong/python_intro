{
 "cells": [
  {
   "cell_type": "markdown",
   "id": "16f69c47-f2cf-44e9-966a-10478e8cc977",
   "metadata": {
    "editable": true,
    "jp-MarkdownHeadingCollapsed": true,
    "slideshow": {
     "slide_type": "slide"
    },
    "tags": []
   },
   "source": [
    "# Diving into Conditional Statements\n",
    "\n",
    "## Session 4"
   ]
  },
  {
   "cell_type": "markdown",
   "id": "8ee507ed-cbce-43f7-bced-c2d78bc16f6e",
   "metadata": {
    "editable": true,
    "slideshow": {
     "slide_type": "slide"
    },
    "tags": []
   },
   "source": [
    "# Agenda\n",
    "\n",
    "- Recap\n",
    "- Understanding Conditional Statements\n",
    "- Exploring `if`, `elif`, and `else`\n",
    "- Creating a Simple Decision-Making Program\n",
    "- Hands-on Activity"
   ]
  },
  {
   "cell_type": "markdown",
   "id": "3f79d902",
   "metadata": {},
   "source": [
    "# Recap\n",
    "\n",
    "- Dive into Strings\n",
    "- Manipulating Strings\n",
    "- Understanding User Input"
   ]
  },
  {
   "cell_type": "markdown",
   "id": "6995684b-150e-430f-a834-628c09f38ff9",
   "metadata": {
    "editable": true,
    "slideshow": {
     "slide_type": "slide"
    },
    "tags": []
   },
   "source": [
    "# What are Conditional Statements?\n",
    "\n",
    "- **Definition**: Conditional statements allow the program to make decisions.\n",
    "- **Key Points**:\n",
    "  - Execute different code based on a condition.\n",
    "  - Use comparison operators to create conditions.\n",
    "- Image: Illustration of a simple decision tree or flowchart.\n"
   ]
  },
  {
   "cell_type": "markdown",
   "id": "a6315bf9-021f-4f36-a079-df9f576e13c3",
   "metadata": {
    "editable": true,
    "slideshow": {
     "slide_type": "slide"
    },
    "tags": []
   },
   "source": [
    "# Comparison Operators\n",
    "\n",
    "- **Explanation**: Introduce operators used to compare values.\n",
    "- **Operators**:\n",
    "  - `==`: Equal to\n",
    "  - `!=`: Not equal to\n",
    "  - `<`: Less than\n",
    "  - `>`: Greater than\n",
    "  - `<=`: Less than or equal to\n",
    "  - `>=`: Greater than or equal to\n",
    "- Image: Symbols of operators or a simple example using them.\n"
   ]
  },
  {
   "cell_type": "markdown",
   "id": "a4b0d193-45cd-47b6-9740-176d69210378",
   "metadata": {
    "editable": true,
    "slideshow": {
     "slide_type": "slide"
    },
    "tags": []
   },
   "source": [
    "# The `if` Statement\n",
    "\n",
    "- **Explanation**: Discuss using if to execute code based on a condition.\n",
    "- **Example Code**:\n",
    "```\n",
    "age = 15\n",
    "if age >= 18:\n",
    "    print(\"You are an adult.\")\n",
    "```\n",
    "- Image: Illustration of a condition being true and code being executed."
   ]
  },
  {
   "cell_type": "markdown",
   "id": "fcf0a087-5535-4c67-9a74-fabb8b3a5f31",
   "metadata": {
    "editable": true,
    "slideshow": {
     "slide_type": "slide"
    },
    "tags": []
   },
   "source": [
    "# The `else` Statement\n",
    "\n",
    "- **Explanation**: Introduce `else` to handle when the `if` condition is false.\n",
    "- **Example Code**:\n",
    "```\n",
    "age = 15\n",
    "if age >= 18:\n",
    "    print(\"You are an adult.\")\n",
    "else:\n",
    "    print(\"You are a minor.\")\n",
    "```\n"
   ]
  },
  {
   "cell_type": "markdown",
   "id": "c35833d1-6406-482e-90e9-6a86eaa6f352",
   "metadata": {
    "editable": true,
    "slideshow": {
     "slide_type": "slide"
    },
    "tags": []
   },
   "source": [
    "# The `elif` Statement\n",
    "\n",
    "- **Explanation**: Introduce `elif` to handle multiple conditions\n",
    "- **Example Code**:\n",
    "```\n",
    "age = 15\n",
    "if age >= 18:\n",
    "    print(\"You are an adult.\")\n",
    "elif age >= 13:\n",
    "    print(\"You are a teenager.\")\n",
    "else:\n",
    "    print(\"You are a child.\")\n",
    "```\n",
    "- Image: Illustration of a flowchart with multiple paths."
   ]
  },
  {
   "cell_type": "markdown",
   "id": "483d489d-c3ac-4853-9fa1-b89c110c8ab9",
   "metadata": {
    "editable": true,
    "slideshow": {
     "slide_type": "slide"
    },
    "tags": []
   },
   "source": [
    "# Hands-on Activity\n",
    "- **Activity Description**: Create a program that asks for the user's age and tells them if they're a child, a teenager, or an adult.\n",
    "\n",
    "- **Example Code**:\n",
    "```\n",
    "age = int(input(\"How old are you? \"))\n",
    "if age >= 18:\n",
    "    print(\"You are an adult.\")\n",
    "elif age >= 13:\n",
    "    print(\"You are a teenager.\")\n",
    "else:\n",
    "    print(\"You are a child.\")\n",
    "```\n"
   ]
  },
  {
   "cell_type": "markdown",
   "id": "1b2d3b2b-c0dd-4bd7-ba97-0148dde09f69",
   "metadata": {
    "editable": true,
    "slideshow": {
     "slide_type": "slide"
    },
    "tags": []
   },
   "source": [
    "# Recap and Next Steps\n",
    "- **Recap**\n",
    "  - Dive into Strings\n",
    "  - Manipulating Strings\n",
    "  - Understanding User Input\n",
    "  - Hands-on Activity\n",
    "- **Next Session Preview**:\n",
    "  - Next time, we'll dive into Lists and Loops"
   ]
  },
  {
   "cell_type": "markdown",
   "id": "d20484e5-d7c8-4e8e-8429-245976ddbc2e",
   "metadata": {
    "editable": true,
    "slideshow": {
     "slide_type": "slide"
    },
    "tags": []
   },
   "source": [
    "# Homework\n",
    "\n"
   ]
  }
 ],
 "metadata": {
  "celltoolbar": "Slideshow",
  "kernelspec": {
   "display_name": "Python 3 (ipykernel)",
   "language": "python",
   "name": "python3"
  },
  "language_info": {
   "codemirror_mode": {
    "name": "ipython",
    "version": 3
   },
   "file_extension": ".py",
   "mimetype": "text/x-python",
   "name": "python",
   "nbconvert_exporter": "python",
   "pygments_lexer": "ipython3",
   "version": "3.11.5"
  }
 },
 "nbformat": 4,
 "nbformat_minor": 5
}
