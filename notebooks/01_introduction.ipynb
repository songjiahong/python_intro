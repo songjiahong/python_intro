{
 "cells": [
  {
   "cell_type": "markdown",
   "id": "16f69c47-f2cf-44e9-966a-10478e8cc977",
   "metadata": {
    "editable": true,
    "jp-MarkdownHeadingCollapsed": true,
    "slideshow": {
     "slide_type": "slide"
    },
    "tags": []
   },
   "source": [
    "# Introduction to Programming and Python\n",
    "\n",
    "## Session 1"
   ]
  },
  {
   "cell_type": "markdown",
   "id": "8ee507ed-cbce-43f7-bced-c2d78bc16f6e",
   "metadata": {
    "editable": true,
    "slideshow": {
     "slide_type": "slide"
    },
    "tags": []
   },
   "source": [
    "# Agenda\n",
    "\n",
    "- Self Introduction\n",
    "- What is programming?\n",
    "- Why Python?\n",
    "- Setting up Python and IDE\n",
    "- Writing our first program\n",
    "- Recap and homework"
   ]
  },
  {
   "cell_type": "markdown",
   "id": "0b0a2f6d",
   "metadata": {
    "slideshow": {
     "slide_type": "slide"
    }
   },
   "source": [
    "# Round table self introduction"
   ]
  },
  {
   "cell_type": "markdown",
   "id": "6995684b-150e-430f-a834-628c09f38ff9",
   "metadata": {
    "editable": true,
    "slideshow": {
     "slide_type": "slide"
    },
    "tags": []
   },
   "source": [
    "# What is Programming?\n",
    "Programming is the process of creating a set of instructions that tell a computer how to perform a task."
   ]
  },
  {
   "cell_type": "markdown",
   "id": "a6315bf9-021f-4f36-a079-df9f576e13c3",
   "metadata": {
    "editable": true,
    "slideshow": {
     "slide_type": "slide"
    },
    "tags": []
   },
   "source": [
    "# Computer is not **<span style=\"color:red\">SMART</span>**"
   ]
  },
  {
   "cell_type": "markdown",
   "id": "e5111943",
   "metadata": {
    "slideshow": {
     "slide_type": "notes"
    }
   },
   "source": [
    "Computer could do many things with the help from different types of softwares, however it is not that smart as we thought. We need to provide a very clear instruction when we ask the computer to do something, same as the programming. AI is a separate topic which we can discuss later if you're interested."
   ]
  },
  {
   "cell_type": "markdown",
   "id": "a4b0d193-45cd-47b6-9740-176d69210378",
   "metadata": {
    "editable": true,
    "slideshow": {
     "slide_type": "slide"
    },
    "tags": []
   },
   "source": [
    "# The instructions should be **<span style=\"color:red\">SUPER CLEAR</span>**"
   ]
  },
  {
   "cell_type": "markdown",
   "id": "fcf0a087-5535-4c67-9a74-fabb8b3a5f31",
   "metadata": {
    "editable": true,
    "slideshow": {
     "slide_type": "slide"
    },
    "tags": []
   },
   "source": [
    "# Unclear instruction samples\n",
    "\n",
    "- move a vehicle from Sydney to Melbourne\n",
    "- create a video shooting game\n",
    "\n",
    "# Why they are not clear?"
   ]
  },
  {
   "cell_type": "markdown",
   "id": "928bd126",
   "metadata": {
    "slideshow": {
     "slide_type": "notes"
    }
   },
   "source": [
    "- The first one: Which vehicle? How to move? Drive or tow? Which route?\n",
    "- The second one: What kind of game? Any detail descriptions?"
   ]
  },
  {
   "cell_type": "markdown",
   "id": "c35833d1-6406-482e-90e9-6a86eaa6f352",
   "metadata": {
    "editable": true,
    "slideshow": {
     "slide_type": "slide"
    },
    "tags": []
   },
   "source": [
    "# Clear instruction samples\n",
    "\n",
    "- 1 Plus 2\n",
    "- A word combined with `a`, `c` and `e`\n",
    "\n",
    "# Why they are clear?"
   ]
  },
  {
   "cell_type": "markdown",
   "id": "dfd64f7a-6660-481b-8c72-0d0272d5d99c",
   "metadata": {
    "editable": true,
    "slideshow": {
     "slide_type": "notes"
    },
    "tags": []
   },
   "source": [
    "Think about the differences between English and Math class"
   ]
  },
  {
   "cell_type": "markdown",
   "id": "f4cd685f-9258-421a-8ba6-4c7486445011",
   "metadata": {
    "editable": true,
    "slideshow": {
     "slide_type": "slide"
    },
    "tags": []
   },
   "source": [
    "## Anything you can think of example of programming?"
   ]
  },
  {
   "cell_type": "markdown",
   "id": "483d489d-c3ac-4853-9fa1-b89c110c8ab9",
   "metadata": {
    "editable": true,
    "slideshow": {
     "slide_type": "slide"
    },
    "tags": []
   },
   "source": [
    "# Everyday Examples of Programming\n",
    "- Automated machines (e.g., ATMs, vending machines)\n",
    "- Video games\n",
    "- Mobile apps\n",
    "- Websites\n",
    "- Smart TV\n",
    "- ..."
   ]
  },
  {
   "cell_type": "markdown",
   "id": "421fb7f4-0c58-4b54-91e3-0e81d4649eca",
   "metadata": {
    "editable": true,
    "slideshow": {
     "slide_type": "slide"
    },
    "tags": []
   },
   "source": [
    "# Why Python?\n",
    "- Easy to learn and read\n",
    "- Versatile: web development, data analysis, AI, and more\n",
    "- Large community and resources\n",
    "- Great for beginners"
   ]
  },
  {
   "cell_type": "markdown",
   "id": "ccad48e3-0293-4e76-a808-18c69f4fbbfe",
   "metadata": {
    "editable": true,
    "slideshow": {
     "slide_type": "slide"
    },
    "tags": []
   },
   "source": [
    "# Setting Up Python\n",
    "1. Visit the official Python website (https://www.python.org/)\n",
    "2. Download the latest version.\n",
    "3. Run the installer.\n",
    "4. Ensure \"Add Python to PATH\" is checked.\n",
    "5. Run following command to make sure it installed correctly: `python --version`\n",
    "6. Install jupyter notebook with command: `pip install notebook`"
   ]
  },
  {
   "cell_type": "markdown",
   "id": "9706ebd0-fd0d-4da3-856d-f4dd51e5e523",
   "metadata": {
    "editable": true,
    "slideshow": {
     "slide_type": "slide"
    },
    "tags": []
   },
   "source": [
    "# Setting Up VSCode\n",
    "1. Visit the official VSCode website (https://code.visualstudio.com/)\n",
    "2. Download the latest version.\n",
    "3. Run the installer.\n",
    "4. Launch the VSCode\n",
    "5. Install python extension"
   ]
  },
  {
   "cell_type": "markdown",
   "id": "323861aa",
   "metadata": {
    "slideshow": {
     "slide_type": "slide"
    }
   },
   "source": [
    "# Before the real coding\n",
    "\n",
    "- Organize your code\n",
    "- Code repositories\n",
    "  - Online vs offline?\n",
    "  - free ones like: https://github.com/\n",
    "- Coding standard\n",
    "  - indent\n",
    "  - camel vs snake cases\n",
    "    - camel: numberOfDonuts\n",
    "    - snake: number_of_donuts\n",
    "- Code versioning\n",
    "  - Why versioning is important?\n",
    "- Useful links\n",
    "  - https://docs.python.org/3/tutorial/index.html\n",
    "  - https://chat.openai.com/"
   ]
  },
  {
   "cell_type": "code",
   "execution_count": null,
   "id": "bd8f287c-6aac-486f-8ba4-44017dcf2199",
   "metadata": {
    "editable": true,
    "slideshow": {
     "slide_type": "slide"
    },
    "tags": []
   },
   "outputs": [],
   "source": [
    "# Let's write our first line of code\n",
    "\n",
    "print(\"Hello, World!\")"
   ]
  },
  {
   "cell_type": "markdown",
   "id": "1351f105-e3f3-4655-a918-d706c70c506b",
   "metadata": {
    "editable": true,
    "slideshow": {
     "slide_type": "slide"
    },
    "tags": []
   },
   "source": [
    "## Now what if we want you to print \\# in a screen?"
   ]
  },
  {
   "cell_type": "code",
   "execution_count": null,
   "id": "4f493ef0-6c50-4c92-b685-b52d25c5ce49",
   "metadata": {
    "editable": true,
    "slideshow": {
     "slide_type": "slide"
    },
    "tags": []
   },
   "outputs": [],
   "source": [
    "# That's piece of cakes\n",
    "\n",
    "print(\"#\")"
   ]
  },
  {
   "cell_type": "markdown",
   "id": "ad2ad684-79aa-4ac6-8b30-14ca648f38e2",
   "metadata": {
    "editable": true,
    "slideshow": {
     "slide_type": "slide"
    },
    "tags": []
   },
   "source": [
    "## Then we want two lines like:\n",
    "\n",
    "\\#  \n",
    "\\#\\#"
   ]
  },
  {
   "cell_type": "markdown",
   "id": "8e51ea79-b87e-429f-ad9b-7b5ab770f936",
   "metadata": {
    "editable": true,
    "slideshow": {
     "slide_type": "slide"
    },
    "tags": []
   },
   "source": [
    "## Then three lines like:\n",
    "\n",
    "\\#  \n",
    "\\#\\#  \n",
    "\\#\\#\\#"
   ]
  },
  {
   "cell_type": "markdown",
   "id": "5f420654-dd0c-455d-adcb-bf713e50df02",
   "metadata": {
    "editable": true,
    "slideshow": {
     "slide_type": "slide"
    },
    "tags": []
   },
   "source": [
    "## How about ten lines? Or even hundreds lines?"
   ]
  },
  {
   "cell_type": "markdown",
   "id": "8db392b3",
   "metadata": {
    "slideshow": {
     "slide_type": "slide"
    }
   },
   "source": [
    "# The Strength of Computers\n",
    "\n",
    "- recurring activities\n",
    "- time consuming activities\n",
    "- ..."
   ]
  },
  {
   "cell_type": "code",
   "execution_count": null,
   "id": "5764e6f6-7015-4931-98d8-f58258ba8dd3",
   "metadata": {
    "editable": true,
    "slideshow": {
     "slide_type": "slide"
    },
    "tags": []
   },
   "outputs": [],
   "source": [
    "for val in range(1, 11):\n",
    "  print(\"#\" * val)"
   ]
  },
  {
   "cell_type": "markdown",
   "id": "f7b484c1-ce73-4001-a505-3ddc6a8d50d9",
   "metadata": {
    "editable": true,
    "slideshow": {
     "slide_type": "slide"
    },
    "tags": []
   },
   "source": [
    "# Now let's create a small number guess game\n",
    "\n",
    "And here are the rules:\n",
    "- A writes down a number N between 1 and 20\n",
    "- B guesses the number\n",
    "- If the guess number is bigger than the given number N, A will say \"Too high!\"\n",
    "- If the guess number is smaller than the given number N, A will say \"Too low!\"\n",
    "- If the guess number equals the given number N, A will say \"Bingo! You guessed it!\"\n",
    "\n",
    "**A** is the computer\n",
    "**B** is us"
   ]
  },
  {
   "cell_type": "markdown",
   "id": "1af97fbf-1f06-4975-b3e3-0e101da0986e",
   "metadata": {
    "editable": true,
    "slideshow": {
     "slide_type": "slide"
    },
    "tags": []
   },
   "source": [
    "# Are you ready for your first coding game?"
   ]
  },
  {
   "cell_type": "code",
   "execution_count": null,
   "id": "ec7c1c61-1a18-49cc-aa70-0a913411dfa1",
   "metadata": {
    "editable": true,
    "slideshow": {
     "slide_type": "slide"
    },
    "tags": []
   },
   "outputs": [],
   "source": [
    "print(\"Welcome to Guess the Number!\")\n",
    "print(\"I'm thinking of a number between 1 and 20.\")"
   ]
  },
  {
   "cell_type": "code",
   "execution_count": null,
   "id": "dcefae0d-2502-420f-8276-04aaee0f7956",
   "metadata": {
    "editable": true,
    "slideshow": {
     "slide_type": "slide"
    },
    "tags": []
   },
   "outputs": [],
   "source": [
    "print(\"Welcome to Guess the Number!\")\n",
    "print(\"I'm thinking of a number between 1 and 20.\")\n",
    "\n",
    "number = 7"
   ]
  },
  {
   "cell_type": "code",
   "execution_count": null,
   "id": "2a92236b-f25b-4cd2-b13f-4370553ab23b",
   "metadata": {
    "editable": true,
    "slideshow": {
     "slide_type": "slide"
    },
    "tags": []
   },
   "outputs": [],
   "source": [
    "print(\"Welcome to Guess the Number!\")\n",
    "print(\"I'm thinking of a number between 1 and 20.\")\n",
    "\n",
    "number = 7\n",
    "\n",
    "while True:\n",
    "    guess = int(input(\"Your guess: \"))\n",
    "    if guess == number:\n",
    "        print(\"Bingo! You guessed it!\")\n",
    "        break\n",
    "    elif guess < number:\n",
    "        print(\"Too low!\")\n",
    "    else:\n",
    "        print(\"Too high!\")"
   ]
  },
  {
   "cell_type": "code",
   "execution_count": null,
   "id": "6bb7da40-9e88-48d2-8b4d-cc186315800c",
   "metadata": {
    "editable": true,
    "slideshow": {
     "slide_type": "slide"
    },
    "tags": []
   },
   "outputs": [],
   "source": [
    "import random\n",
    "\n",
    "print(\"Welcome to Guess the Number!\")\n",
    "print(\"I'm thinking of a number between 1 and 20.\")\n",
    "\n",
    "number = random.randint(1, 20)\n",
    "\n",
    "while True:\n",
    "    guess = int(input(\"Your guess: \"))\n",
    "    if guess == number:\n",
    "        print(\"Bingo! You guessed it!\")\n",
    "        break\n",
    "    elif guess < number:\n",
    "        print(\"Too low!\")\n",
    "    else:\n",
    "        print(\"Too high!\")"
   ]
  },
  {
   "cell_type": "markdown",
   "id": "1b2d3b2b-c0dd-4bd7-ba97-0148dde09f69",
   "metadata": {
    "editable": true,
    "slideshow": {
     "slide_type": "slide"
    },
    "tags": []
   },
   "source": [
    "# Recap and Next Steps\n",
    "- **Recap**\n",
    "  - What is programming?\n",
    "  - Why Python?\n",
    "  - Setting up Python and IDE\n",
    "  - Writing our first program\n",
    "  - Small guess game\n",
    "- **Next Session Preview**:\n",
    "  - Next time, we'll dive into variables and data types. Get ready to store and play with data!"
   ]
  },
  {
   "cell_type": "markdown",
   "id": "d20484e5-d7c8-4e8e-8429-245976ddbc2e",
   "metadata": {
    "editable": true,
    "slideshow": {
     "slide_type": "slide"
    },
    "tags": []
   },
   "source": [
    "# Homework\n",
    "\n",
    "For the number guess game we made totday, the number is always between 1 and 20.\n",
    "Let's make the maximum number to be random (like: 1 ~ 99)\n",
    "\n",
    "**Note:** you need to change the welcome message accordingly."
   ]
  }
 ],
 "metadata": {
  "celltoolbar": "Slideshow",
  "kernelspec": {
   "display_name": "Python 3 (ipykernel)",
   "language": "python",
   "name": "python3"
  },
  "language_info": {
   "codemirror_mode": {
    "name": "ipython",
    "version": 3
   },
   "file_extension": ".py",
   "mimetype": "text/x-python",
   "name": "python",
   "nbconvert_exporter": "python",
   "pygments_lexer": "ipython3",
   "version": "3.11.5"
  }
 },
 "nbformat": 4,
 "nbformat_minor": 5
}
