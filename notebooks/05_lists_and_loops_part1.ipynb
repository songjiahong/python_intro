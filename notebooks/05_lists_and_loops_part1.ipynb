{
 "cells": [
  {
   "cell_type": "markdown",
   "id": "16f69c47-f2cf-44e9-966a-10478e8cc977",
   "metadata": {
    "editable": true,
    "jp-MarkdownHeadingCollapsed": true,
    "slideshow": {
     "slide_type": "slide"
    },
    "tags": []
   },
   "source": [
    "# Exploring Lists and Loops (Part 1)\n",
    "\n",
    "## Session 5\n",
    "\n",
    "Image: Consider using an image related to lists or loops, like a chain or a series of items."
   ]
  },
  {
   "cell_type": "markdown",
   "id": "8ee507ed-cbce-43f7-bced-c2d78bc16f6e",
   "metadata": {
    "editable": true,
    "slideshow": {
     "slide_type": "slide"
    },
    "tags": []
   },
   "source": [
    "# Agenda\n",
    "\n",
    "- Recap\n",
    "- Introduction to Lists\n",
    "- Basic List Operations\n",
    "- Introduction to Loops\n",
    "- Hands-on Activity"
   ]
  },
  {
   "cell_type": "markdown",
   "id": "3f79d902",
   "metadata": {},
   "source": [
    "# Recap\n",
    "\n",
    "- Dive into Strings\n",
    "- Manipulating Strings\n",
    "- Understanding User Input"
   ]
  },
  {
   "cell_type": "markdown",
   "id": "6995684b-150e-430f-a834-628c09f38ff9",
   "metadata": {
    "editable": true,
    "slideshow": {
     "slide_type": "slide"
    },
    "tags": []
   },
   "source": [
    "# Introduction to Lists\n",
    "\n",
    "- **Definition**: Lists are ordered collections of items.\n",
    "- **Key Points**:\n",
    "  - Lists can contain different types of items.\n",
    "  - Items in a list are ordered and can be accessed by index.\n",
    "- Image: Illustration of a list with indexed items.\n"
   ]
  },
  {
   "cell_type": "markdown",
   "id": "a6315bf9-021f-4f36-a079-df9f576e13c3",
   "metadata": {
    "editable": true,
    "slideshow": {
     "slide_type": "slide"
    },
    "tags": []
   },
   "source": [
    "# Basic List Operations\n",
    "\n",
    "- **Explanation**: Discuss basic operations like accessing, modifying, adding, and removing items.\n",
    "- **Example Code**:\n",
    "```\n",
    "my_list = [1, 2, 3, 4, 5]\n",
    "my_list[0] = 10\n",
    "my_list.append(6)\n",
    "```\n",
    "- Image: Illustration of operations on a list.\n"
   ]
  },
  {
   "cell_type": "markdown",
   "id": "a4b0d193-45cd-47b6-9740-176d69210378",
   "metadata": {
    "editable": true,
    "slideshow": {
     "slide_type": "slide"
    },
    "tags": []
   },
   "source": [
    "# Introduction to Loops\n",
    "\n",
    "- **Definition**: Loops allow code to be executed multiple times.\n",
    "- **Key Points**:\n",
    "  - Loops can iterate over items in a list.\n",
    "  - Two types of loops will be discussed in this and the next session: for and while.\n",
    "- Image: Illustration of a looping arrow or a simple flowchart with a loop."
   ]
  },
  {
   "cell_type": "markdown",
   "id": "fcf0a087-5535-4c67-9a74-fabb8b3a5f31",
   "metadata": {
    "editable": true,
    "slideshow": {
     "slide_type": "slide"
    },
    "tags": []
   },
   "source": [
    "# The for Loop\n",
    "\n",
    "- **Explanation**: Introduce the concept of for loops and how they work with lists.\n",
    "- **Example Code**:\n",
    "```\n",
    "for number in my_list:\n",
    "    print(number)\n",
    "```\n",
    "- Key Points: Explain the indentation and the importance of the colon.\n",
    "- Image: Illustration of a for loop iterating through a list."
   ]
  },
  {
   "cell_type": "markdown",
   "id": "483d489d-c3ac-4853-9fa1-b89c110c8ab9",
   "metadata": {
    "editable": true,
    "slideshow": {
     "slide_type": "slide"
    },
    "tags": []
   },
   "source": [
    "# Hands-on Activity\n",
    "- **Activity Description**: Create a program that asks the user for their favorite foods, stores them in a list, and then prints them out using a loop.\n",
    "\n",
    "- **Example Code**:\n",
    "```\n",
    "favorite_foods = []\n",
    "for i in range(3):\n",
    "    food = input(\"Enter a favorite food: \")\n",
    "    favorite_foods.append(food)\n",
    "\n",
    "print(\"Your favorite foods are:\")\n",
    "for food in favorite_foods:\n",
    "    print(food)\n",
    "```\n"
   ]
  },
  {
   "cell_type": "markdown",
   "id": "1b2d3b2b-c0dd-4bd7-ba97-0148dde09f69",
   "metadata": {
    "editable": true,
    "slideshow": {
     "slide_type": "slide"
    },
    "tags": []
   },
   "source": [
    "# Recap and Next Steps\n",
    "- **Recap**\n",
    "  - Dive into Strings\n",
    "  - Manipulating Strings\n",
    "  - Understanding User Input\n",
    "  - Hands-on Activity\n",
    "- **Next Session Preview**:\n",
    "  - Next time, we'll dive into Lists and Loops Part 2"
   ]
  },
  {
   "cell_type": "markdown",
   "id": "d20484e5-d7c8-4e8e-8429-245976ddbc2e",
   "metadata": {
    "editable": true,
    "slideshow": {
     "slide_type": "slide"
    },
    "tags": []
   },
   "source": [
    "# Homework\n",
    "\n"
   ]
  }
 ],
 "metadata": {
  "celltoolbar": "Slideshow",
  "kernelspec": {
   "display_name": "Python 3 (ipykernel)",
   "language": "python",
   "name": "python3"
  },
  "language_info": {
   "codemirror_mode": {
    "name": "ipython",
    "version": 3
   },
   "file_extension": ".py",
   "mimetype": "text/x-python",
   "name": "python",
   "nbconvert_exporter": "python",
   "pygments_lexer": "ipython3",
   "version": "3.11.5"
  }
 },
 "nbformat": 4,
 "nbformat_minor": 5
}
