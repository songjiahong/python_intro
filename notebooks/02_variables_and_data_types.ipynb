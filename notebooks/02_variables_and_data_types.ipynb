{
 "cells": [
  {
   "cell_type": "markdown",
   "id": "16f69c47-f2cf-44e9-966a-10478e8cc977",
   "metadata": {
    "editable": true,
    "jp-MarkdownHeadingCollapsed": true,
    "slideshow": {
     "slide_type": "slide"
    },
    "tags": []
   },
   "source": [
    "# Understanding Variables and Data Types\n",
    "\n",
    "## Session 2"
   ]
  },
  {
   "cell_type": "markdown",
   "id": "8ee507ed-cbce-43f7-bced-c2d78bc16f6e",
   "metadata": {
    "editable": true,
    "slideshow": {
     "slide_type": "slide"
    },
    "tags": []
   },
   "source": [
    "# Agenda\n",
    "\n",
    "- Recap\n",
    "- Introduction to Variables\n",
    "- Understanding Data Types\n",
    "- Operations on Variables\n",
    "- Hands-on Activity"
   ]
  },
  {
   "cell_type": "markdown",
   "id": "3f79d902",
   "metadata": {
    "slideshow": {
     "slide_type": "slide"
    }
   },
   "source": [
    "# Recap\n",
    "\n",
    "- What is programming?\n",
    "- Why Python?\n",
    "- Setting up Python and IDE\n",
    "- Small guess game"
   ]
  },
  {
   "cell_type": "markdown",
   "id": "3c7cfe29",
   "metadata": {
    "slideshow": {
     "slide_type": "slide"
    }
   },
   "source": [
    "# Your homework\n",
    "\n",
    "For the number guess game we made totday, the number is always between 1 and 20.\n",
    "Let's make the maximum number to be random (like: 1 ~ 99)"
   ]
  },
  {
   "cell_type": "code",
   "execution_count": null,
   "id": "8556d32b",
   "metadata": {
    "slideshow": {
     "slide_type": "slide"
    }
   },
   "outputs": [],
   "source": [
    "import random\n",
    "\n",
    "max_number = random.randint(1, 99)\n",
    "\n",
    "print(\"Welcome to Guess the Number!\")\n",
    "print(f\"I'm thinking of a number between 1 and {max_number}.\")\n",
    "\n",
    "number = random.randint(1, max_number)\n",
    "\n",
    "while True:\n",
    "    guess = int(input(\"Your guess: \"))\n",
    "    if guess == number:\n",
    "        print(\"Bingo! You guessed it!\")\n",
    "        break\n",
    "    elif guess < number:\n",
    "        print(\"Too low!\")\n",
    "    else:\n",
    "        print(\"Too high!\")"
   ]
  },
  {
   "cell_type": "markdown",
   "id": "cd5afd6c",
   "metadata": {
    "slideshow": {
     "slide_type": "slide"
    }
   },
   "source": [
    "# The important of indent\n",
    "\n",
    "Find out the difference of the following two sets of code:\n",
    "```\n",
    "for val in range(1, 11):\n",
    "  print(\"#\" * val)\n",
    "```\n",
    "Another:\n",
    "```\n",
    "for val in range(1, 11):\n",
    "print(\"#\" * val)\n",
    "```"
   ]
  },
  {
   "cell_type": "markdown",
   "id": "296739b4",
   "metadata": {
    "slideshow": {
     "slide_type": "notes"
    }
   },
   "source": [
    "Python executes the code line by line, and the indent decides the logic relationship between two lines.\n",
    "We need to strictly follow the alignment of codes which is quite different than other languages.\n",
    "\n",
    "Some other languages use brackets (parenthesis) to define the code block."
   ]
  },
  {
   "cell_type": "markdown",
   "id": "6995684b-150e-430f-a834-628c09f38ff9",
   "metadata": {
    "editable": true,
    "slideshow": {
     "slide_type": "slide"
    },
    "tags": []
   },
   "source": [
    "# What are Variables?\n",
    "\n",
    "- **Definition**: Variables are containers for storing data values.\n",
    "- **Key Points**:\n",
    "  - Variables hold data.\n",
    "  - They have a name and a value.\n",
    "\n",
    "![AssignValue](./images/assign_value_to_variable.png) "
   ]
  },
  {
   "cell_type": "markdown",
   "id": "a6315bf9-021f-4f36-a079-df9f576e13c3",
   "metadata": {
    "editable": true,
    "slideshow": {
     "slide_type": "slide"
    },
    "tags": []
   },
   "source": [
    "# Creating Variables\n",
    "\n",
    "- **Explanation**: Discuss how to create variables in Python.\n",
    "- **Example Code**:\n",
    "```\n",
    "name = \"John\"\n",
    "age = 12\n",
    "```\n",
    "- **Key Points**:\n",
    "  - Variables can store different types of data.\n",
    "  - No need to declare the type of variable (dynamic typing)."
   ]
  },
  {
   "cell_type": "markdown",
   "id": "a4b0d193-45cd-47b6-9740-176d69210378",
   "metadata": {
    "editable": true,
    "slideshow": {
     "slide_type": "slide"
    },
    "tags": []
   },
   "source": [
    "# Understanding Data Types\n",
    "\n",
    "- **Definition**: Data types define the type of data a variable can hold.\n",
    "- **Types**:\n",
    "  - Integer\n",
    "  - Float\n",
    "  - String\n",
    "  - Boolean\n"
   ]
  },
  {
   "cell_type": "markdown",
   "id": "fcf0a087-5535-4c67-9a74-fabb8b3a5f31",
   "metadata": {
    "editable": true,
    "slideshow": {
     "slide_type": "slide"
    },
    "tags": []
   },
   "source": [
    "# Integers and Floats\n",
    "\n",
    "- **Definition**:\n",
    "  - Integer: Whole numbers without a fractional part.\n",
    "  - Float: Numbers that have a fractional part.\n",
    "- **Example Code**:\n",
    "```\n",
    "my_integer = 10\n",
    "my_float = 20.5\n",
    "```\n"
   ]
  },
  {
   "cell_type": "markdown",
   "id": "c35833d1-6406-482e-90e9-6a86eaa6f352",
   "metadata": {
    "editable": true,
    "slideshow": {
     "slide_type": "slide"
    },
    "tags": []
   },
   "source": [
    "# Strings\n",
    "\n",
    "- **Definition**: Strings are sequences of characters.\n",
    "- **Example Code**:\n",
    "```\n",
    "my_string = \"Hello, World!\"\n",
    "```\n",
    "- **Key Points**:\n",
    "  - Strings can be enclosed in single or double quotes.\n",
    "  - Strings can store letters, numbers, and special characters."
   ]
  },
  {
   "cell_type": "markdown",
   "id": "f4cd685f-9258-421a-8ba6-4c7486445011",
   "metadata": {
    "editable": true,
    "slideshow": {
     "slide_type": "slide"
    },
    "tags": []
   },
   "source": [
    "# Booleans\n",
    "\n",
    "- **Definition**: Booleans represent one of two values: True or False.\n",
    "- **Example Code**:\n",
    "```\n",
    "is_sunny = True\n",
    "```\n",
    "- **Key Points**:\n",
    "  - Often used in conditional statements.\n",
    "  - Derived from Boolean algebra."
   ]
  },
  {
   "cell_type": "markdown",
   "id": "50da6e51",
   "metadata": {
    "slideshow": {
     "slide_type": "slide"
    }
   },
   "source": [
    "# Type Limitations\n",
    "\n",
    "Why we have limitations?\n",
    "\n",
    "Before we can answer this question, we need to understand how computer stores the data.\n"
   ]
  },
  {
   "cell_type": "markdown",
   "id": "7d1f9a7e-5af4-4cbc-945a-a35eb1540e37",
   "metadata": {
    "slideshow": {
     "slide_type": "slide"
    }
   },
   "source": [
    "![bytes](./images/bytes.png) "
   ]
  },
  {
   "cell_type": "markdown",
   "id": "146a8465",
   "metadata": {
    "slideshow": {
     "slide_type": "slide"
    }
   },
   "source": [
    "# Store of string - ASCII table\n",
    "\n",
    "ASCII: abbreviated from American Standard Code for Information Interchange, is a character encoding standard for electronic communication.\n",
    "\n",
    "![ascii](./images/ascii.png) "
   ]
  },
  {
   "cell_type": "markdown",
   "id": "c3c3a738",
   "metadata": {
    "slideshow": {
     "slide_type": "slide"
    }
   },
   "source": [
    "# Type Limitations\n",
    "\n",
    "- Integer: limit of your memory storage and system architecture (32-bit vs. 64-bit)\n",
    "- Float: 2.2×10^−308 and 1.8×10^308\n",
    "- String: limit of your memory storage and system architecture (32-bit vs. 64-bit)"
   ]
  },
  {
   "cell_type": "markdown",
   "id": "483d489d-c3ac-4853-9fa1-b89c110c8ab9",
   "metadata": {
    "editable": true,
    "slideshow": {
     "slide_type": "slide"
    },
    "tags": []
   },
   "source": [
    "# Operations on Variables\n",
    "- **Topics**:\n",
    "  - Arithmetic operations (addition, subtraction, etc.)\n",
    "  - Concatenating strings\n",
    "  - Converting between data types\n",
    "- **Example Code**:\n",
    "```\n",
    "result = my_integer + my_float\n",
    "greeting = \"Hello, \" + name\n",
    "```"
   ]
  },
  {
   "cell_type": "code",
   "execution_count": null,
   "id": "a3c48625",
   "metadata": {
    "slideshow": {
     "slide_type": "slide"
    }
   },
   "outputs": [],
   "source": [
    "my_integer = 120\n",
    "my_float = 3.1415927\n",
    "\n",
    "my_int_float = my_integer + my_float\n",
    "print(type(my_int_float))\n",
    "print(my_int_float)\n",
    "\n",
    "my_string = 'Hello world'\n",
    "my_str_int = my_string + my_integer\n",
    "print(type(my_str_int))\n",
    "print(my_str_int)"
   ]
  },
  {
   "cell_type": "markdown",
   "id": "c852da7f",
   "metadata": {
    "slideshow": {
     "slide_type": "slide"
    }
   },
   "source": [
    "# Convert between char and integer\n",
    "\n",
    "- integer to char: `chr` like: `chr(65)`\n",
    "- char to integer: `ord` like: `ord('A')`"
   ]
  },
  {
   "cell_type": "markdown",
   "id": "421fb7f4-0c58-4b54-91e3-0e81d4649eca",
   "metadata": {
    "editable": true,
    "slideshow": {
     "slide_type": "slide"
    },
    "tags": []
   },
   "source": [
    "# Hands-on Activity\n",
    "- **Activity Description**: \n",
    "Create a simple program that encrypts a sentence of message to another one.\n",
    "\n",
    "## The encrypt rule is:\n",
    "\n",
    "- Convert each character in the sentence to the character next to that character\n",
    "  - For e.g.: a -> b, D -> E ...\n"
   ]
  },
  {
   "cell_type": "code",
   "execution_count": null,
   "id": "8c76775c",
   "metadata": {
    "slideshow": {
     "slide_type": "slide"
    }
   },
   "outputs": [],
   "source": [
    "message = input(\"What is your message? \")\n",
    "encrypt_msg = ''\n",
    "for char in message:\n",
    "  encrypt_char = chr(ord(char) + 1)\n",
    "  encrypt_msg += encrypt_char\n",
    "print(encrypt_msg)"
   ]
  },
  {
   "cell_type": "markdown",
   "id": "1b2d3b2b-c0dd-4bd7-ba97-0148dde09f69",
   "metadata": {
    "editable": true,
    "slideshow": {
     "slide_type": "slide"
    },
    "tags": []
   },
   "source": [
    "# Recap and Next Steps\n",
    "- **Recap**\n",
    "  - Introduction to Variables\n",
    "  - Understanding Data Types\n",
    "  - Operations on Variables\n",
    "  - Hands-on Activity\n",
    "- **Next Session Preview**:\n",
    "  - Next time, we'll dive into Strings and User Input"
   ]
  },
  {
   "cell_type": "markdown",
   "id": "d20484e5-d7c8-4e8e-8429-245976ddbc2e",
   "metadata": {
    "editable": true,
    "slideshow": {
     "slide_type": "slide"
    },
    "tags": []
   },
   "source": [
    "# Homework\n",
    "\n",
    "For the message encryption program totday, try to create a program to decrypt the encrypted message."
   ]
  }
 ],
 "metadata": {
  "celltoolbar": "Slideshow",
  "kernelspec": {
   "display_name": "Python 3 (ipykernel)",
   "language": "python",
   "name": "python3"
  },
  "language_info": {
   "codemirror_mode": {
    "name": "ipython",
    "version": 3
   },
   "file_extension": ".py",
   "mimetype": "text/x-python",
   "name": "python",
   "nbconvert_exporter": "python",
   "pygments_lexer": "ipython3",
   "version": "3.11.5"
  }
 },
 "nbformat": 4,
 "nbformat_minor": 5
}
