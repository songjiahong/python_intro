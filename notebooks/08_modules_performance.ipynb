{
 "cells": [
  {
   "cell_type": "markdown",
   "id": "16f69c47-f2cf-44e9-966a-10478e8cc977",
   "metadata": {
    "editable": true,
    "jp-MarkdownHeadingCollapsed": true,
    "slideshow": {
     "slide_type": "slide"
    },
    "tags": []
   },
   "source": [
    "# Introduction to Modules\n",
    "\n",
    "## Session 8"
   ]
  },
  {
   "cell_type": "markdown",
   "id": "8ee507ed-cbce-43f7-bced-c2d78bc16f6e",
   "metadata": {
    "editable": true,
    "slideshow": {
     "slide_type": "slide"
    },
    "tags": []
   },
   "source": [
    "# Agenda\n",
    "\n",
    "- Recap\n",
    "- What are Modules?\n",
    "- Using Standard Modules\n",
    "- Creating Custom Modules\n",
    "- Performance Brief Intro\n",
    "- Hands-on Activity"
   ]
  },
  {
   "cell_type": "markdown",
   "id": "3f79d902",
   "metadata": {
    "slideshow": {
     "slide_type": "slide"
    }
   },
   "source": [
    "# Recap\n",
    "\n",
    "- What is OOP?\n",
    "- Why OOP?\n",
    "- Classes and Inheritance"
   ]
  },
  {
   "cell_type": "markdown",
   "metadata": {
    "slideshow": {
     "slide_type": "slide"
    }
   },
   "source": [
    "# Homework\n",
    "\n",
    "Support moving left or right with the new class"
   ]
  },
  {
   "cell_type": "code",
   "execution_count": null,
   "metadata": {
    "slideshow": {
     "slide_type": "slide"
    }
   },
   "outputs": [],
   "source": [
    "def move_left(self):\n",
    "  self.rect.left -= self.speed\n",
    "  if self.rect.left < 0:\n",
    "    self.rect.left = 0\n",
    "\n",
    "def move_right(self):\n",
    "  self.rect.left += self.speed\n",
    "  if self.rect.left > SCREEN_WIDTH - self.rect.width:\n",
    "    self.rect.left = SCREEN_WIDTH - self.rect.width"
   ]
  },
  {
   "cell_type": "markdown",
   "id": "6995684b-150e-430f-a834-628c09f38ff9",
   "metadata": {
    "editable": true,
    "slideshow": {
     "slide_type": "slide"
    },
    "tags": []
   },
   "source": [
    "# What are Modules?\n",
    "\n",
    "- **Definition**: A module is a file containing Python definitions and statements. The file name is the module name with the suffix `.py` appended.\n",
    "- **Purpose**: Modules provide a way to organize functions, classes, and other data together in a structured way.\n",
    "- **Importing Modules**: Demonstrate how to import a module using import statement."
   ]
  },
  {
   "cell_type": "markdown",
   "metadata": {
    "slideshow": {
     "slide_type": "slide"
    }
   },
   "source": [
    "# Using Standard Modules\n",
    "\n",
    "- Briefly introduce some standard modules in Python (e.g., math, os, sys)\n",
    "- Show how to use a function from a standard module.\n",
    "- Example:\n",
    "  - Importing and using the `math` module"
   ]
  },
  {
   "cell_type": "markdown",
   "id": "a4b0d193-45cd-47b6-9740-176d69210378",
   "metadata": {
    "editable": true,
    "slideshow": {
     "slide_type": "slide"
    },
    "tags": []
   },
   "source": [
    "# Creating Custom Modules\n",
    "\n",
    "- Explain how to create a custom module.\n",
    "- Show how to import and use this custom module in another Python script.\n",
    "- Example:\n",
    "  - Creating a simple module.\n",
    "  - Importing and using the custom module."
   ]
  },
  {
   "cell_type": "markdown",
   "metadata": {
    "slideshow": {
     "slide_type": "slide"
    }
   },
   "source": [
    "# Performance Brief Intro\n",
    "\n",
    "## Performance is one of the KEY criterias for a program\n",
    "## Two main things to evaluate the performance of a program:\n",
    "\n",
    "- Time Complexity: how many times the program needs to calculate\n",
    "- Space Complexity (Memory): how much memory the program needs to use"
   ]
  },
  {
   "cell_type": "markdown",
   "metadata": {
    "slideshow": {
     "slide_type": "slide"
    }
   },
   "source": [
    "# Hands-on Activity\n",
    "\n",
    "A shooter game"
   ]
  },
  {
   "cell_type": "markdown",
   "id": "1b2d3b2b-c0dd-4bd7-ba97-0148dde09f69",
   "metadata": {
    "editable": true,
    "slideshow": {
     "slide_type": "slide"
    },
    "tags": []
   },
   "source": [
    "# Recap and Next Steps\n",
    "- **Recap**\n",
    "  - What are Modules?\n",
    "  - Using Standard Modules\n",
    "  - Creating Custom Modules\n",
    "  - Performance Brief Intro\n",
    "- **Next Session Preview**:\n",
    "  - Next time, we'll dive into OOP and Modules"
   ]
  },
  {
   "cell_type": "markdown",
   "id": "d20484e5-d7c8-4e8e-8429-245976ddbc2e",
   "metadata": {
    "editable": true,
    "slideshow": {
     "slide_type": "slide"
    },
    "tags": []
   },
   "source": [
    "# Homework\n",
    "\n"
   ]
  }
 ],
 "metadata": {
  "celltoolbar": "Slideshow",
  "kernelspec": {
   "display_name": "Python 3 (ipykernel)",
   "language": "python",
   "name": "python3"
  },
  "language_info": {
   "codemirror_mode": {
    "name": "ipython",
    "version": 3
   },
   "file_extension": ".py",
   "mimetype": "text/x-python",
   "name": "python",
   "nbconvert_exporter": "python",
   "pygments_lexer": "ipython3",
   "version": "3.11.5"
  }
 },
 "nbformat": 4,
 "nbformat_minor": 5
}
