{
 "cells": [
  {
   "cell_type": "markdown",
   "id": "16f69c47-f2cf-44e9-966a-10478e8cc977",
   "metadata": {
    "editable": true,
    "jp-MarkdownHeadingCollapsed": true,
    "slideshow": {
     "slide_type": "slide"
    },
    "tags": []
   },
   "source": [
    "# Introduction to Functions (Part 1)\n",
    "\n",
    "## Session 7\n",
    "\n",
    "Image: Consider using an image related to functions, like a machine that takes input and produces output."
   ]
  },
  {
   "cell_type": "markdown",
   "id": "8ee507ed-cbce-43f7-bced-c2d78bc16f6e",
   "metadata": {
    "editable": true,
    "slideshow": {
     "slide_type": "slide"
    },
    "tags": []
   },
   "source": [
    "# Agenda\n",
    "\n",
    "- Recap\n",
    "- What are Functions?\n",
    "- Defining and Calling Functions\n",
    "- Parameters and Arguments\n",
    "- Hands-on Activity"
   ]
  },
  {
   "cell_type": "markdown",
   "id": "3f79d902",
   "metadata": {},
   "source": [
    "# Recap\n",
    "\n",
    "- Dive into Strings\n",
    "- Manipulating Strings\n",
    "- Understanding User Input"
   ]
  },
  {
   "cell_type": "markdown",
   "id": "6995684b-150e-430f-a834-628c09f38ff9",
   "metadata": {
    "editable": true,
    "slideshow": {
     "slide_type": "slide"
    },
    "tags": []
   },
   "source": [
    "# What are Functions?\n",
    "\n",
    "- **Definition**: Functions are reusable pieces of code that perform a specific task.\n",
    "- **Key Points**:\n",
    "  - Functions can take input and return output.\n",
    "  - They help in organizing and reusing code.\n",
    "- Image: Illustration of a function concept (e.g., a black box converting input to output).\n"
   ]
  },
  {
   "cell_type": "markdown",
   "id": "a6315bf9-021f-4f36-a079-df9f576e13c3",
   "metadata": {
    "editable": true,
    "slideshow": {
     "slide_type": "slide"
    },
    "tags": []
   },
   "source": [
    "# Defining and Calling Functions\n",
    "\n",
    "- **Explanation**: Discuss how to create (define) and use (call) functions.\n",
    "- **Example Code**:\n",
    "```\n",
    "def greet():\n",
    "    print(\"Hello, World!\")\n",
    "\n",
    "greet()\n",
    "```\n",
    "- Image: Illustration of the function definition and call flow.\n"
   ]
  },
  {
   "cell_type": "markdown",
   "id": "a4b0d193-45cd-47b6-9740-176d69210378",
   "metadata": {
    "editable": true,
    "slideshow": {
     "slide_type": "slide"
    },
    "tags": []
   },
   "source": [
    "# Parameters and Arguments\n",
    "\n",
    "- **Definition**:\n",
    "  - Parameter: A variable used in the function definition.\n",
    "  - Argument: A value passed to the function when it is called.\n",
    "- **Example Code**:\n",
    "```\n",
    "def greet(name):\n",
    "    print(f\"Hello, {name}!\")\n",
    "\n",
    "greet(\"Alice\")\n",
    "```\n",
    "- Image: Illustration of a function receiving an input and producing a customized output."
   ]
  },
  {
   "cell_type": "markdown",
   "id": "fcf0a087-5535-4c67-9a74-fabb8b3a5f31",
   "metadata": {
    "editable": true,
    "slideshow": {
     "slide_type": "slide"
    },
    "tags": []
   },
   "source": [
    "# Return Values\n",
    "\n",
    "- **Explanation**: Discuss using the return statement to send a result back from the function.\n",
    "- **Example Code**:\n",
    "```\n",
    "def add(a, b):\n",
    "    return a + b\n",
    "\n",
    "sum = add(3, 4)\n",
    "print(sum)\n",
    "```\n",
    "- Image: Illustration of a function returning a value.\n"
   ]
  },
  {
   "cell_type": "markdown",
   "id": "483d489d-c3ac-4853-9fa1-b89c110c8ab9",
   "metadata": {
    "editable": true,
    "slideshow": {
     "slide_type": "slide"
    },
    "tags": []
   },
   "source": [
    "# Hands-on Activity\n",
    "- **Activity Description**: Create a function that takes a number as a parameter and returns its square.\n",
    "\n",
    "- **Example Code**:\n",
    "```\n",
    "def square(number):\n",
    "    return number ** 2\n",
    "\n",
    "num = int(input(\"Enter a number: \"))\n",
    "print(f\"The square of {num} is {square(num)}.\")\n",
    "```\n"
   ]
  },
  {
   "cell_type": "markdown",
   "id": "1b2d3b2b-c0dd-4bd7-ba97-0148dde09f69",
   "metadata": {
    "editable": true,
    "slideshow": {
     "slide_type": "slide"
    },
    "tags": []
   },
   "source": [
    "# Recap and Next Steps\n",
    "- **Recap**\n",
    "  - Dive into Strings\n",
    "  - Manipulating Strings\n",
    "  - Understanding User Input\n",
    "  - Hands-on Activity\n",
    "- **Next Session Preview**:\n",
    "  - Next time, we'll dive into Lists and Loops"
   ]
  },
  {
   "cell_type": "markdown",
   "id": "d20484e5-d7c8-4e8e-8429-245976ddbc2e",
   "metadata": {
    "editable": true,
    "slideshow": {
     "slide_type": "slide"
    },
    "tags": []
   },
   "source": [
    "# Homework\n",
    "\n"
   ]
  }
 ],
 "metadata": {
  "celltoolbar": "Slideshow",
  "kernelspec": {
   "display_name": "Python 3 (ipykernel)",
   "language": "python",
   "name": "python3"
  },
  "language_info": {
   "codemirror_mode": {
    "name": "ipython",
    "version": 3
   },
   "file_extension": ".py",
   "mimetype": "text/x-python",
   "name": "python",
   "nbconvert_exporter": "python",
   "pygments_lexer": "ipython3",
   "version": "3.11.5"
  }
 },
 "nbformat": 4,
 "nbformat_minor": 5
}
